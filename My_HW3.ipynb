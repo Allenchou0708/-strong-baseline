{
  "nbformat": 4,
  "nbformat_minor": 0,
  "metadata": {
    "colab": {
      "provenance": []
    },
    "kernelspec": {
      "name": "python3",
      "display_name": "Python 3"
    },
    "language_info": {
      "name": "python"
    }
  },
  "cells": [
    {
      "cell_type": "code",
      "source": [
        "from google.colab import drive\n",
        "drive.mount('/content/drive')"
      ],
      "metadata": {
        "id": "VXkiDxEqtTp6",
        "colab": {
          "base_uri": "https://localhost:8080/",
          "height": 314
        },
        "outputId": "3699f3c7-c962-40e6-aefa-9a07c7f49d22"
      },
      "execution_count": null,
      "outputs": [
        {
          "output_type": "error",
          "ename": "MessageError",
          "evalue": "Error: credential propagation was unsuccessful",
          "traceback": [
            "\u001b[0;31m---------------------------------------------------------------------------\u001b[0m",
            "\u001b[0;31mMessageError\u001b[0m                              Traceback (most recent call last)",
            "\u001b[0;32m<ipython-input-1-d5df0069828e>\u001b[0m in \u001b[0;36m<cell line: 0>\u001b[0;34m()\u001b[0m\n\u001b[1;32m      1\u001b[0m \u001b[0;32mfrom\u001b[0m \u001b[0mgoogle\u001b[0m\u001b[0;34m.\u001b[0m\u001b[0mcolab\u001b[0m \u001b[0;32mimport\u001b[0m \u001b[0mdrive\u001b[0m\u001b[0;34m\u001b[0m\u001b[0;34m\u001b[0m\u001b[0m\n\u001b[0;32m----> 2\u001b[0;31m \u001b[0mdrive\u001b[0m\u001b[0;34m.\u001b[0m\u001b[0mmount\u001b[0m\u001b[0;34m(\u001b[0m\u001b[0;34m'/content/drive'\u001b[0m\u001b[0;34m)\u001b[0m\u001b[0;34m\u001b[0m\u001b[0;34m\u001b[0m\u001b[0m\n\u001b[0m",
            "\u001b[0;32m/usr/local/lib/python3.11/dist-packages/google/colab/drive.py\u001b[0m in \u001b[0;36mmount\u001b[0;34m(mountpoint, force_remount, timeout_ms, readonly)\u001b[0m\n\u001b[1;32m     98\u001b[0m \u001b[0;32mdef\u001b[0m \u001b[0mmount\u001b[0m\u001b[0;34m(\u001b[0m\u001b[0mmountpoint\u001b[0m\u001b[0;34m,\u001b[0m \u001b[0mforce_remount\u001b[0m\u001b[0;34m=\u001b[0m\u001b[0;32mFalse\u001b[0m\u001b[0;34m,\u001b[0m \u001b[0mtimeout_ms\u001b[0m\u001b[0;34m=\u001b[0m\u001b[0;36m120000\u001b[0m\u001b[0;34m,\u001b[0m \u001b[0mreadonly\u001b[0m\u001b[0;34m=\u001b[0m\u001b[0;32mFalse\u001b[0m\u001b[0;34m)\u001b[0m\u001b[0;34m:\u001b[0m\u001b[0;34m\u001b[0m\u001b[0;34m\u001b[0m\u001b[0m\n\u001b[1;32m     99\u001b[0m   \u001b[0;34m\"\"\"Mount your Google Drive at the specified mountpoint path.\"\"\"\u001b[0m\u001b[0;34m\u001b[0m\u001b[0;34m\u001b[0m\u001b[0m\n\u001b[0;32m--> 100\u001b[0;31m   return _mount(\n\u001b[0m\u001b[1;32m    101\u001b[0m       \u001b[0mmountpoint\u001b[0m\u001b[0;34m,\u001b[0m\u001b[0;34m\u001b[0m\u001b[0;34m\u001b[0m\u001b[0m\n\u001b[1;32m    102\u001b[0m       \u001b[0mforce_remount\u001b[0m\u001b[0;34m=\u001b[0m\u001b[0mforce_remount\u001b[0m\u001b[0;34m,\u001b[0m\u001b[0;34m\u001b[0m\u001b[0;34m\u001b[0m\u001b[0m\n",
            "\u001b[0;32m/usr/local/lib/python3.11/dist-packages/google/colab/drive.py\u001b[0m in \u001b[0;36m_mount\u001b[0;34m(mountpoint, force_remount, timeout_ms, ephemeral, readonly)\u001b[0m\n\u001b[1;32m    135\u001b[0m   )\n\u001b[1;32m    136\u001b[0m   \u001b[0;32mif\u001b[0m \u001b[0mephemeral\u001b[0m\u001b[0;34m:\u001b[0m\u001b[0;34m\u001b[0m\u001b[0;34m\u001b[0m\u001b[0m\n\u001b[0;32m--> 137\u001b[0;31m     _message.blocking_request(\n\u001b[0m\u001b[1;32m    138\u001b[0m         \u001b[0;34m'request_auth'\u001b[0m\u001b[0;34m,\u001b[0m\u001b[0;34m\u001b[0m\u001b[0;34m\u001b[0m\u001b[0m\n\u001b[1;32m    139\u001b[0m         \u001b[0mrequest\u001b[0m\u001b[0;34m=\u001b[0m\u001b[0;34m{\u001b[0m\u001b[0;34m'authType'\u001b[0m\u001b[0;34m:\u001b[0m \u001b[0;34m'dfs_ephemeral'\u001b[0m\u001b[0;34m}\u001b[0m\u001b[0;34m,\u001b[0m\u001b[0;34m\u001b[0m\u001b[0;34m\u001b[0m\u001b[0m\n",
            "\u001b[0;32m/usr/local/lib/python3.11/dist-packages/google/colab/_message.py\u001b[0m in \u001b[0;36mblocking_request\u001b[0;34m(request_type, request, timeout_sec, parent)\u001b[0m\n\u001b[1;32m    174\u001b[0m       \u001b[0mrequest_type\u001b[0m\u001b[0;34m,\u001b[0m \u001b[0mrequest\u001b[0m\u001b[0;34m,\u001b[0m \u001b[0mparent\u001b[0m\u001b[0;34m=\u001b[0m\u001b[0mparent\u001b[0m\u001b[0;34m,\u001b[0m \u001b[0mexpect_reply\u001b[0m\u001b[0;34m=\u001b[0m\u001b[0;32mTrue\u001b[0m\u001b[0;34m\u001b[0m\u001b[0;34m\u001b[0m\u001b[0m\n\u001b[1;32m    175\u001b[0m   )\n\u001b[0;32m--> 176\u001b[0;31m   \u001b[0;32mreturn\u001b[0m \u001b[0mread_reply_from_input\u001b[0m\u001b[0;34m(\u001b[0m\u001b[0mrequest_id\u001b[0m\u001b[0;34m,\u001b[0m \u001b[0mtimeout_sec\u001b[0m\u001b[0;34m)\u001b[0m\u001b[0;34m\u001b[0m\u001b[0;34m\u001b[0m\u001b[0m\n\u001b[0m",
            "\u001b[0;32m/usr/local/lib/python3.11/dist-packages/google/colab/_message.py\u001b[0m in \u001b[0;36mread_reply_from_input\u001b[0;34m(message_id, timeout_sec)\u001b[0m\n\u001b[1;32m    101\u001b[0m     ):\n\u001b[1;32m    102\u001b[0m       \u001b[0;32mif\u001b[0m \u001b[0;34m'error'\u001b[0m \u001b[0;32min\u001b[0m \u001b[0mreply\u001b[0m\u001b[0;34m:\u001b[0m\u001b[0;34m\u001b[0m\u001b[0;34m\u001b[0m\u001b[0m\n\u001b[0;32m--> 103\u001b[0;31m         \u001b[0;32mraise\u001b[0m \u001b[0mMessageError\u001b[0m\u001b[0;34m(\u001b[0m\u001b[0mreply\u001b[0m\u001b[0;34m[\u001b[0m\u001b[0;34m'error'\u001b[0m\u001b[0;34m]\u001b[0m\u001b[0;34m)\u001b[0m\u001b[0;34m\u001b[0m\u001b[0;34m\u001b[0m\u001b[0m\n\u001b[0m\u001b[1;32m    104\u001b[0m       \u001b[0;32mreturn\u001b[0m \u001b[0mreply\u001b[0m\u001b[0;34m.\u001b[0m\u001b[0mget\u001b[0m\u001b[0;34m(\u001b[0m\u001b[0;34m'data'\u001b[0m\u001b[0;34m,\u001b[0m \u001b[0;32mNone\u001b[0m\u001b[0;34m)\u001b[0m\u001b[0;34m\u001b[0m\u001b[0;34m\u001b[0m\u001b[0m\n\u001b[1;32m    105\u001b[0m \u001b[0;34m\u001b[0m\u001b[0m\n",
            "\u001b[0;31mMessageError\u001b[0m: Error: credential propagation was unsuccessful"
          ]
        }
      ]
    },
    {
      "cell_type": "code",
      "source": [
        "cd ./drive/MyDrive/NTU_ML2017_Hung-yi-Lee_HW/HW3"
      ],
      "metadata": {
        "id": "j5nQ1UyHtUKe",
        "colab": {
          "base_uri": "https://localhost:8080/"
        },
        "outputId": "7d4ca3fe-72a2-4066-9229-956345948274"
      },
      "execution_count": null,
      "outputs": [
        {
          "output_type": "stream",
          "name": "stdout",
          "text": [
            "[Errno 2] No such file or directory: './drive/MyDrive/NTU_ML2017_Hung-yi-Lee_HW/HW3'\n",
            "/content/drive/MyDrive/NTU_ML2017_Hung-yi-Lee_HW/HW3\n"
          ]
        }
      ]
    },
    {
      "cell_type": "code",
      "execution_count": null,
      "metadata": {
        "id": "AvzwzEEerZJb"
      },
      "outputs": [],
      "source": [
        "import numpy as np\n",
        "import pandas as pd\n",
        "import matplotlib.pyplot as plt\n",
        "import torch\n",
        "import torch.nn as nn\n",
        "from torch.utils.data import Dataset, DataLoader\n",
        "from tqdm import tqdm\n",
        "import math"
      ]
    },
    {
      "cell_type": "code",
      "source": [
        "def pd_to_np(df):\n",
        "\n",
        "  if \"label\" in df.columns:\n",
        "    train_y = np.array(df[\"label\"])\n",
        "\n",
        "  train_x = list(df[\"feature\"])\n",
        "  train_x = [ravel_photo.split(\" \") for ravel_photo in train_x]\n",
        "  train_x = np.array(train_x)\n",
        "\n",
        "  train_x = train_x.astype(np.float32)\n",
        "\n",
        "  ## scalize\n",
        "  train_x = (train_x - train_x.mean(axis=0).reshape((1,-1))) / train_x.std(axis=0).reshape((1,-1))\n",
        "\n",
        "  train_x = train_x.reshape((-1,1,48,48))\n",
        "\n",
        "  if \"label\" in df.columns:\n",
        "    return train_x, train_y\n",
        "  else:\n",
        "    return train_x"
      ],
      "metadata": {
        "id": "YntxUxVWto9T"
      },
      "execution_count": null,
      "outputs": []
    },
    {
      "cell_type": "code",
      "source": [
        "class photo_dataset(Dataset):\n",
        "  def __init__(self,x,y):\n",
        "    self.x = x\n",
        "    self.y = y\n",
        "\n",
        "  def __getitem__(self,idx): ## 不是 __getitems__\n",
        "    return self.x[idx,:,:,:], self.y[idx]\n",
        "\n",
        "  def __len__(self):\n",
        "    return self.x.shape[0]"
      ],
      "metadata": {
        "id": "NrtJ0F7QuuIF"
      },
      "execution_count": null,
      "outputs": []
    },
    {
      "cell_type": "code",
      "source": [
        "train_df = pd.read_csv(\"./data/train.csv\")\n",
        "# test_df = pd.read_csv(\"./data/test.csv\")\n",
        "\n",
        "train_x, train_y = pd_to_np(train_df)\n",
        "# test_x = pd_to_np(test_df)\n",
        "\n",
        "val_rate = 0.2\n",
        "val_index = int(math.floor(train_x.shape[0] * val_rate))\n",
        "\n",
        "val_x = torch.from_numpy(train_x[:val_index,:,:,:])\n",
        "val_y = torch.from_numpy(train_y[:val_index])\n",
        "train_x = torch.from_numpy(train_x[val_index:,:,:,:])\n",
        "train_y = torch.from_numpy(train_y[val_index:])\n",
        "\n",
        "print(train_x.shape, train_y.shape)\n",
        "print(val_x.shape, val_y.shape)\n",
        "# print(test_x.shape)\n",
        "\n",
        "train_photo_dataset = photo_dataset(train_x, train_y)\n",
        "val_photo_dataset = photo_dataset(val_x, val_y)\n",
        "\n",
        "train_photo_dataloader = DataLoader(train_photo_dataset, batch_size=32, shuffle=True)\n",
        "val_photo_dataloader = DataLoader(val_photo_dataset, batch_size=32, shuffle=False)"
      ],
      "metadata": {
        "id": "iIVbVFY8thm3",
        "colab": {
          "base_uri": "https://localhost:8080/"
        },
        "outputId": "c594c8f2-7fec-4cb8-8ae2-8a62da0a0a76"
      },
      "execution_count": null,
      "outputs": [
        {
          "output_type": "stream",
          "name": "stdout",
          "text": [
            "torch.Size([22968, 1, 48, 48]) torch.Size([22968])\n",
            "torch.Size([5741, 1, 48, 48]) torch.Size([5741])\n"
          ]
        }
      ]
    },
    {
      "cell_type": "code",
      "source": [
        "######### **kwarg"
      ],
      "metadata": {
        "id": "OfgtMZ5IkaBC"
      },
      "execution_count": null,
      "outputs": []
    },
    {
      "cell_type": "code",
      "source": [
        "###\n",
        "class emotion_model(nn.Module):\n",
        "  def __init__(self, feature_size, output_size, f1=16, f2=4, h1=400, h2=10, h3=1):\n",
        "    super(emotion_model,self).__init__()\n",
        "    self.conv1 = nn.Conv2d(1,f1,3)\n",
        "    self.maxpool1 = nn.MaxPool2d(2)\n",
        "    self.conv2 = nn.Conv2d(f1,f2,3)\n",
        "    self.maxpool2 = nn.MaxPool2d(2)\n",
        "    self.flatten1 = nn.Flatten()\n",
        "    self.linear1 = nn.Linear(h1,output_size)\n",
        "    self.flatten2 = nn.Flatten()\n",
        "    self.softmax = nn.Softmax()\n",
        "    self.net = nn.Sequential(\n",
        "        self.conv1,\n",
        "        self.maxpool1,\n",
        "        self.conv2,\n",
        "        self.maxpool2,\n",
        "        self.flatten1,\n",
        "        self.linear1,\n",
        "        self.flatten2,\n",
        "        self.softmax\n",
        "    )\n",
        "\n",
        "  def forward(self,x):\n",
        "    return self.net(x)\n",
        "\n",
        "  ## dropout"
      ],
      "metadata": {
        "id": "gM29lFEUvyUM"
      },
      "execution_count": null,
      "outputs": []
    },
    {
      "cell_type": "code",
      "source": [
        "\n",
        "model_name = \"\" #@param {type:\"string\"}\n",
        "\n",
        "epoch = 5 #@param {type:\"integer\"}\n",
        "\n",
        "learning_rate = 0.01 #@param {type:\"number\"}\n",
        "\n",
        "\n",
        "optim_method = \"rms\" #@param [\"sgd\",\"adam\",\"rms\"]\n",
        "\n",
        "\n"
      ],
      "metadata": {
        "id": "VGQ5Iu0pcTlw"
      },
      "execution_count": null,
      "outputs": []
    },
    {
      "cell_type": "code",
      "source": [
        "torch.manual_seed(0)\n",
        "\n",
        "model = emotion_model(train_x.shape[1],7,f1=128,f2=32,h1=3200)\n",
        "loss_function = nn.CrossEntropyLoss()\n",
        "\n",
        "if optim_method == \"sgd\":\n",
        "  optimizer = torch.optim.SGD(model.parameters(), lr=learning_rate)\n",
        "elif optim_method == \"adam\":\n",
        "  optimizer = torch.optim.Adam(model.parameters(), lr=learning_rate)\n",
        "elif optim_method == \"rms\":\n",
        "  optimizer = torch.optim.RMSprop(model.parameters(), lr=learning_rate, alpha=0.7)\n",
        "else:\n",
        "  raise Exception(\"no such optimizer\")"
      ],
      "metadata": {
        "id": "_i1bHwM2cToH"
      },
      "execution_count": null,
      "outputs": []
    },
    {
      "cell_type": "code",
      "source": [
        "torch.manual_seed(0)\n",
        "total_train_loss = []\n",
        "total_train_acc = []\n",
        "total_val_loss = []\n",
        "total_val_acc = []\n",
        "\n",
        "for time in tqdm(range(epoch)):\n",
        "  train_loss_list = []\n",
        "  train_acc_list = []\n",
        "  val_loss_list = []\n",
        "  val_acc_list = []\n",
        "\n",
        "\n",
        "  for batch_x, batch_y in train_photo_dataloader:\n",
        "    model.train()\n",
        "    optimizer.zero_grad()\n",
        "    batch_x.to(torch.float32).to(torch.device(\"cpu\"))\n",
        "    batch_y.to(torch.float32).to(torch.device(\"cpu\"))\n",
        "\n",
        "    hypo_y = model(batch_x).squeeze()\n",
        "    loss = loss_function(hypo_y,batch_y)\n",
        "    loss.backward()\n",
        "    optimizer.step()\n",
        "\n",
        "    model.eval()\n",
        "    with torch.no_grad():\n",
        "      hypo_y = model(batch_x).squeeze()\n",
        "      loss = loss_function(hypo_y,batch_y)\n",
        "      # print(loss.shape)\n",
        "      # print(batch_y.shape)\n",
        "      train_loss_list.append(loss.item())\n",
        "\n",
        "      hypo_y_label = torch.argmax(hypo_y,dim=1)\n",
        "      train_acc = torch.count_nonzero(hypo_y_label == batch_y) / batch_y.shape[0]\n",
        "\n",
        "      train_acc_list.append(train_acc.item())\n",
        "\n",
        "  model.eval()\n",
        "  for val_batch_x, val_batch_y in val_photo_dataloader:\n",
        "    val_batch_x.to(torch.float32).to(torch.device(\"cpu\"))\n",
        "    val_batch_y.to(torch.float32).to(torch.device(\"cpu\"))\n",
        "    with torch.no_grad():\n",
        "      hypo_y = model(val_batch_x).squeeze()\n",
        "      loss = loss_function(hypo_y,val_batch_y)\n",
        "\n",
        "      val_loss_list.append(loss.item())\n",
        "      hypo_y_label = torch.argmax(hypo_y,dim=1)\n",
        "      val_acc = torch.count_nonzero(hypo_y_label == val_batch_y) / val_batch_y.shape[0]\n",
        "\n",
        "      val_acc_list.append(val_acc.item())\n",
        "\n",
        "  total_train_loss.append(np.mean(train_loss_list))\n",
        "  total_train_acc.append(np.mean(train_acc_list))\n",
        "  total_val_loss.append(np.mean(val_loss_list))\n",
        "  total_val_acc.append(np.mean(val_acc_list))"
      ],
      "metadata": {
        "colab": {
          "base_uri": "https://localhost:8080/"
        },
        "id": "mbSqcARScTjp",
        "outputId": "28734b88-1180-42cb-8dda-981d7793c154"
      },
      "execution_count": null,
      "outputs": [
        {
          "output_type": "stream",
          "name": "stderr",
          "text": [
            "100%|██████████| 5/5 [29:59<00:00, 359.87s/it]\n"
          ]
        }
      ]
    },
    {
      "cell_type": "code",
      "source": [
        "plt.plot(range(epoch),total_train_loss,\"b\",label=\"train\")\n",
        "plt.plot(range(epoch),total_val_loss,\"r\",label=\"test\")\n",
        "plt.legend()\n",
        "plt.show()\n",
        "\n",
        "plt.plot(range(epoch),total_train_acc,\"b\",label=\"train\")\n",
        "plt.plot(range(epoch),total_val_acc,\"r\",label=\"test\")\n",
        "plt.legend()\n",
        "plt.show()"
      ],
      "metadata": {
        "colab": {
          "base_uri": "https://localhost:8080/",
          "height": 787
        },
        "id": "5GArbSg6cTg-",
        "outputId": "18ac4aea-a3de-47bb-ee87-7e412d3b7739"
      },
      "execution_count": null,
      "outputs": [
        {
          "output_type": "error",
          "ename": "ValueError",
          "evalue": "x and y must have same first dimension, but have shapes (5,) and (0,)",
          "traceback": [
            "\u001b[0;31m---------------------------------------------------------------------------\u001b[0m",
            "\u001b[0;31mValueError\u001b[0m                                Traceback (most recent call last)",
            "\u001b[0;32m<ipython-input-39-1eeae9321a57>\u001b[0m in \u001b[0;36m<cell line: 0>\u001b[0;34m()\u001b[0m\n\u001b[0;32m----> 1\u001b[0;31m \u001b[0mplt\u001b[0m\u001b[0;34m.\u001b[0m\u001b[0mplot\u001b[0m\u001b[0;34m(\u001b[0m\u001b[0mrange\u001b[0m\u001b[0;34m(\u001b[0m\u001b[0mepoch\u001b[0m\u001b[0;34m)\u001b[0m\u001b[0;34m,\u001b[0m\u001b[0mtotal_train_loss\u001b[0m\u001b[0;34m,\u001b[0m\u001b[0;34m\"b\"\u001b[0m\u001b[0;34m,\u001b[0m\u001b[0mlabel\u001b[0m\u001b[0;34m=\u001b[0m\u001b[0;34m\"train\"\u001b[0m\u001b[0;34m)\u001b[0m\u001b[0;34m\u001b[0m\u001b[0;34m\u001b[0m\u001b[0m\n\u001b[0m\u001b[1;32m      2\u001b[0m \u001b[0mplt\u001b[0m\u001b[0;34m.\u001b[0m\u001b[0mplot\u001b[0m\u001b[0;34m(\u001b[0m\u001b[0mrange\u001b[0m\u001b[0;34m(\u001b[0m\u001b[0mepoch\u001b[0m\u001b[0;34m)\u001b[0m\u001b[0;34m,\u001b[0m\u001b[0mtotal_val_loss\u001b[0m\u001b[0;34m,\u001b[0m\u001b[0;34m\"r\"\u001b[0m\u001b[0;34m,\u001b[0m\u001b[0mlabel\u001b[0m\u001b[0;34m=\u001b[0m\u001b[0;34m\"test\"\u001b[0m\u001b[0;34m)\u001b[0m\u001b[0;34m\u001b[0m\u001b[0;34m\u001b[0m\u001b[0m\n\u001b[1;32m      3\u001b[0m \u001b[0mplt\u001b[0m\u001b[0;34m.\u001b[0m\u001b[0mlegend\u001b[0m\u001b[0;34m(\u001b[0m\u001b[0;34m)\u001b[0m\u001b[0;34m\u001b[0m\u001b[0;34m\u001b[0m\u001b[0m\n\u001b[1;32m      4\u001b[0m \u001b[0mplt\u001b[0m\u001b[0;34m.\u001b[0m\u001b[0mshow\u001b[0m\u001b[0;34m(\u001b[0m\u001b[0;34m)\u001b[0m\u001b[0;34m\u001b[0m\u001b[0;34m\u001b[0m\u001b[0m\n\u001b[1;32m      5\u001b[0m \u001b[0;34m\u001b[0m\u001b[0m\n",
            "\u001b[0;32m/usr/local/lib/python3.11/dist-packages/matplotlib/pyplot.py\u001b[0m in \u001b[0;36mplot\u001b[0;34m(scalex, scaley, data, *args, **kwargs)\u001b[0m\n\u001b[1;32m   3827\u001b[0m     \u001b[0;34m**\u001b[0m\u001b[0mkwargs\u001b[0m\u001b[0;34m,\u001b[0m\u001b[0;34m\u001b[0m\u001b[0;34m\u001b[0m\u001b[0m\n\u001b[1;32m   3828\u001b[0m ) -> list[Line2D]:\n\u001b[0;32m-> 3829\u001b[0;31m     return gca().plot(\n\u001b[0m\u001b[1;32m   3830\u001b[0m         \u001b[0;34m*\u001b[0m\u001b[0margs\u001b[0m\u001b[0;34m,\u001b[0m\u001b[0;34m\u001b[0m\u001b[0;34m\u001b[0m\u001b[0m\n\u001b[1;32m   3831\u001b[0m         \u001b[0mscalex\u001b[0m\u001b[0;34m=\u001b[0m\u001b[0mscalex\u001b[0m\u001b[0;34m,\u001b[0m\u001b[0;34m\u001b[0m\u001b[0;34m\u001b[0m\u001b[0m\n",
            "\u001b[0;32m/usr/local/lib/python3.11/dist-packages/matplotlib/axes/_axes.py\u001b[0m in \u001b[0;36mplot\u001b[0;34m(self, scalex, scaley, data, *args, **kwargs)\u001b[0m\n\u001b[1;32m   1775\u001b[0m         \"\"\"\n\u001b[1;32m   1776\u001b[0m         \u001b[0mkwargs\u001b[0m \u001b[0;34m=\u001b[0m \u001b[0mcbook\u001b[0m\u001b[0;34m.\u001b[0m\u001b[0mnormalize_kwargs\u001b[0m\u001b[0;34m(\u001b[0m\u001b[0mkwargs\u001b[0m\u001b[0;34m,\u001b[0m \u001b[0mmlines\u001b[0m\u001b[0;34m.\u001b[0m\u001b[0mLine2D\u001b[0m\u001b[0;34m)\u001b[0m\u001b[0;34m\u001b[0m\u001b[0;34m\u001b[0m\u001b[0m\n\u001b[0;32m-> 1777\u001b[0;31m         \u001b[0mlines\u001b[0m \u001b[0;34m=\u001b[0m \u001b[0;34m[\u001b[0m\u001b[0;34m*\u001b[0m\u001b[0mself\u001b[0m\u001b[0;34m.\u001b[0m\u001b[0m_get_lines\u001b[0m\u001b[0;34m(\u001b[0m\u001b[0mself\u001b[0m\u001b[0;34m,\u001b[0m \u001b[0;34m*\u001b[0m\u001b[0margs\u001b[0m\u001b[0;34m,\u001b[0m \u001b[0mdata\u001b[0m\u001b[0;34m=\u001b[0m\u001b[0mdata\u001b[0m\u001b[0;34m,\u001b[0m \u001b[0;34m**\u001b[0m\u001b[0mkwargs\u001b[0m\u001b[0;34m)\u001b[0m\u001b[0;34m]\u001b[0m\u001b[0;34m\u001b[0m\u001b[0;34m\u001b[0m\u001b[0m\n\u001b[0m\u001b[1;32m   1778\u001b[0m         \u001b[0;32mfor\u001b[0m \u001b[0mline\u001b[0m \u001b[0;32min\u001b[0m \u001b[0mlines\u001b[0m\u001b[0;34m:\u001b[0m\u001b[0;34m\u001b[0m\u001b[0;34m\u001b[0m\u001b[0m\n\u001b[1;32m   1779\u001b[0m             \u001b[0mself\u001b[0m\u001b[0;34m.\u001b[0m\u001b[0madd_line\u001b[0m\u001b[0;34m(\u001b[0m\u001b[0mline\u001b[0m\u001b[0;34m)\u001b[0m\u001b[0;34m\u001b[0m\u001b[0;34m\u001b[0m\u001b[0m\n",
            "\u001b[0;32m/usr/local/lib/python3.11/dist-packages/matplotlib/axes/_base.py\u001b[0m in \u001b[0;36m__call__\u001b[0;34m(self, axes, data, return_kwargs, *args, **kwargs)\u001b[0m\n\u001b[1;32m    295\u001b[0m                 \u001b[0mthis\u001b[0m \u001b[0;34m+=\u001b[0m \u001b[0margs\u001b[0m\u001b[0;34m[\u001b[0m\u001b[0;36m0\u001b[0m\u001b[0;34m]\u001b[0m\u001b[0;34m,\u001b[0m\u001b[0;34m\u001b[0m\u001b[0;34m\u001b[0m\u001b[0m\n\u001b[1;32m    296\u001b[0m                 \u001b[0margs\u001b[0m \u001b[0;34m=\u001b[0m \u001b[0margs\u001b[0m\u001b[0;34m[\u001b[0m\u001b[0;36m1\u001b[0m\u001b[0;34m:\u001b[0m\u001b[0;34m]\u001b[0m\u001b[0;34m\u001b[0m\u001b[0;34m\u001b[0m\u001b[0m\n\u001b[0;32m--> 297\u001b[0;31m             yield from self._plot_args(\n\u001b[0m\u001b[1;32m    298\u001b[0m                 \u001b[0maxes\u001b[0m\u001b[0;34m,\u001b[0m \u001b[0mthis\u001b[0m\u001b[0;34m,\u001b[0m \u001b[0mkwargs\u001b[0m\u001b[0;34m,\u001b[0m \u001b[0mambiguous_fmt_datakey\u001b[0m\u001b[0;34m=\u001b[0m\u001b[0mambiguous_fmt_datakey\u001b[0m\u001b[0;34m,\u001b[0m\u001b[0;34m\u001b[0m\u001b[0;34m\u001b[0m\u001b[0m\n\u001b[1;32m    299\u001b[0m                 \u001b[0mreturn_kwargs\u001b[0m\u001b[0;34m=\u001b[0m\u001b[0mreturn_kwargs\u001b[0m\u001b[0;34m\u001b[0m\u001b[0;34m\u001b[0m\u001b[0m\n",
            "\u001b[0;32m/usr/local/lib/python3.11/dist-packages/matplotlib/axes/_base.py\u001b[0m in \u001b[0;36m_plot_args\u001b[0;34m(self, axes, tup, kwargs, return_kwargs, ambiguous_fmt_datakey)\u001b[0m\n\u001b[1;32m    492\u001b[0m \u001b[0;34m\u001b[0m\u001b[0m\n\u001b[1;32m    493\u001b[0m         \u001b[0;32mif\u001b[0m \u001b[0mx\u001b[0m\u001b[0;34m.\u001b[0m\u001b[0mshape\u001b[0m\u001b[0;34m[\u001b[0m\u001b[0;36m0\u001b[0m\u001b[0;34m]\u001b[0m \u001b[0;34m!=\u001b[0m \u001b[0my\u001b[0m\u001b[0;34m.\u001b[0m\u001b[0mshape\u001b[0m\u001b[0;34m[\u001b[0m\u001b[0;36m0\u001b[0m\u001b[0;34m]\u001b[0m\u001b[0;34m:\u001b[0m\u001b[0;34m\u001b[0m\u001b[0;34m\u001b[0m\u001b[0m\n\u001b[0;32m--> 494\u001b[0;31m             raise ValueError(f\"x and y must have same first dimension, but \"\n\u001b[0m\u001b[1;32m    495\u001b[0m                              f\"have shapes {x.shape} and {y.shape}\")\n\u001b[1;32m    496\u001b[0m         \u001b[0;32mif\u001b[0m \u001b[0mx\u001b[0m\u001b[0;34m.\u001b[0m\u001b[0mndim\u001b[0m \u001b[0;34m>\u001b[0m \u001b[0;36m2\u001b[0m \u001b[0;32mor\u001b[0m \u001b[0my\u001b[0m\u001b[0;34m.\u001b[0m\u001b[0mndim\u001b[0m \u001b[0;34m>\u001b[0m \u001b[0;36m2\u001b[0m\u001b[0;34m:\u001b[0m\u001b[0;34m\u001b[0m\u001b[0;34m\u001b[0m\u001b[0m\n",
            "\u001b[0;31mValueError\u001b[0m: x and y must have same first dimension, but have shapes (5,) and (0,)"
          ]
        },
        {
          "output_type": "display_data",
          "data": {
            "text/plain": [
              "<Figure size 640x480 with 1 Axes>"
            ],
            "image/png": "[encoded data removed]"
          },
          "metadata": {}
        }
      ]
    },
    {
      "cell_type": "code",
      "source": [
        "# # batch_x = train_x[0,:,:,:][None,:,:,:]\n",
        "# batch_x = train_x[:2,:,:,:]\n",
        "# batch_y = train_y[:2]\n",
        "\n",
        "# output1 = model.conv1(batch_x)\n",
        "# output2 = model.maxpool1(output1)\n",
        "# output3 = model.conv2(output2)\n",
        "# output4 = model.maxpool2(output3)\n",
        "# output5 = model.flatten1(output4)\n",
        "# output6 = model.linear1(output5)\n",
        "# output7 = model.flatten2(output6)\n",
        "# hypo_y = model.softmax(output7)\n",
        "\n",
        "# print(output7.shape)\n",
        "# print(hypo_y.shape)\n",
        "\n",
        "# hypo_y = model(batch_x).squeeze()\n",
        "# print(hypo_y.shape)\n",
        "# print(hypo_y * 100)\n",
        "# print(torch.round(hypo_y * 100)/100)\n",
        "# print(batch_y)\n",
        "# loss = loss_function(hypo_y,batch_y)\n",
        "# print(loss.shape)\n",
        "# print(loss.item())\n",
        "# print(batch_y.shape)\n",
        "\n",
        "# print(batch_y.item())\n",
        "\n",
        "# ## 直接帶入 label?\n"
      ],
      "metadata": {
        "id": "VNVhSV5z-Rnb"
      },
      "execution_count": null,
      "outputs": []
    }
  ]
}