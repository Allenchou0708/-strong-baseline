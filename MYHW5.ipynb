{
  "nbformat": 4,
  "nbformat_minor": 0,
  "metadata": {
    "accelerator": "GPU",
    "colab": {
      "provenance": []
    },
    "kernelspec": {
      "display_name": "Python 3",
      "name": "python3"
    }
  },
  "cells": [
    {
      "cell_type": "code",
      "source": [
        "## submission : https://www.kaggle.com/competitions/ml2021spring-hw4"
      ],
      "metadata": {
        "id": "9jR_m79_k1L_"
      },
      "execution_count": null,
      "outputs": []
    },
    {
      "cell_type": "code",
      "source": [
        "## sub word training : 將 word 切成字根字首\n",
        "## 節省 vocabuaray size 、更 focus 在字的意義上以及避免忽略頻率過低的字"
      ],
      "metadata": {
        "id": "_tMecQtPofA9"
      },
      "execution_count": null,
      "outputs": []
    },
    {
      "cell_type": "code",
      "source": [
        "## 為什麼要做 segmentation :\n",
        "\n",
        "## 因為後面要接一個將全部 d_model 放入的 NN，用來判斷語者\n",
        "## 如果沒有作切斷，每次的 d_model 會不一樣長，不能被放到後面的 NN"
      ],
      "metadata": {
        "id": "cy4entL5GUHR"
      },
      "execution_count": null,
      "outputs": []
    },
    {
      "cell_type": "code",
      "source": [
        "## 用 step 來 train : 一個 batch 即為一個 step\n",
        "## 用 iter(train_dataloader) 與 next 來一筆一筆抽取"
      ],
      "metadata": {
        "id": "VjmiOo2GyhKH"
      },
      "execution_count": null,
      "outputs": []
    },
    {
      "cell_type": "markdown",
      "metadata": {
        "id": "zC5KwRyl6Flp"
      },
      "source": [
        "# Task description\n",
        "- Classify the speakers of given features.\n",
        "- Main goal: Learn how to use transformer.\n",
        "- Baselines:\n",
        "  - Easy: Run sample code and know how to use transformer.\n",
        "  - Medium: Know how to adjust parameters of transformer.\n",
        "  - Hard: Construct [conformer](https://arxiv.org/abs/2005.08100) which is a variety of transformer.\n",
        "\n",
        "- Other links\n",
        "  - Kaggle: [link](https://www.kaggle.com/t/859c9ca9ede14fdea841be627c412322)\n",
        "  - Slide: [link](https://speech.ee.ntu.edu.tw/~hylee/ml/ml2021-course-data/hw/HW04/HW04.pdf)\n",
        "  - Data: [link](https://drive.google.com/file/d/1T0RPnu-Sg5eIPwQPfYysipfcz81MnsYe/view?usp=sharing)\n",
        "  - Video (Chinese): [link](https://www.youtube.com/watch?v=EPerg2UnGaI)\n",
        "  - Video (English): [link](https://www.youtube.com/watch?v=Gpz6AUvCak0)\n",
        "  - Solution for downloading dataset fail.: [link](https://drive.google.com/drive/folders/13T0Pa_WGgQxNkqZk781qhc5T9-zfh19e?usp=sharing)"
      ]
    },
    {
      "cell_type": "markdown",
      "metadata": {
        "id": "TPDoreyypeJE"
      },
      "source": [
        "# Download dataset\n",
        "- Please follow [here](https://drive.google.com/drive/folders/13T0Pa_WGgQxNkqZk781qhc5T9-zfh19e?usp=sharing) to download data\n",
        "- Data is [here](https://drive.google.com/file/d/1gaFy8RaQVUEXo2n0peCBR5gYKCB-mNHc/view?usp=sharing)"
      ]
    },
    {
      "cell_type": "code",
      "metadata": {
        "id": "QvpaILXnJIcw",
        "colab": {
          "base_uri": "https://localhost:8080/"
        },
        "outputId": "96238343-9c7a-41d2-eeb4-41aa1524ce4c"
      },
      "source": [
        "!wget https://www.dropbox.com/s/vw324newiku0sz0/Dataset.tar.gz.aa?dl=0\n",
        "!wget https://www.dropbox.com/s/z840g69e7lnkayo/Dataset.tar.gz.ab?dl=0\n",
        "!wget https://www.dropbox.com/s/hl081e1ggonio81/Dataset.tar.gz.ac?dl=0\n",
        "!wget https://www.dropbox.com/s/fh3zd8ow668c4th/Dataset.tar.gz.ad?dl=0\n",
        "!wget https://www.dropbox.com/s/ydzygoy2pv6gw9d/Dataset.tar.gz.ae?dl=0\n",
        "!cat Dataset.tar.gz.* | tar zxvf -"
      ],
      "execution_count": null,
      "outputs": [
        {
          "output_type": "stream",
          "name": "stdout",
          "text": [
            "--2025-03-14 12:49:10--  https://www.dropbox.com/s/vw324newiku0sz0/Dataset.tar.gz.aa?dl=0\n",
            "Resolving www.dropbox.com (www.dropbox.com)... 162.125.81.18, 2620:100:6031:18::a27d:5112\n",
            "Connecting to www.dropbox.com (www.dropbox.com)|162.125.81.18|:443... connected.\n",
            "HTTP request sent, awaiting response... 302 Found\n",
            "Location: https://www.dropbox.com/scl/fi/n2lojjabkb6kwk8xxs9vo/Dataset.tar.gz.aa?rlkey=4mgi8jbkkr5u8r5e9xntneyd9&dl=0 [following]\n",
            "--2025-03-14 12:49:11--  https://www.dropbox.com/scl/fi/n2lojjabkb6kwk8xxs9vo/Dataset.tar.gz.aa?rlkey=4mgi8jbkkr5u8r5e9xntneyd9&dl=0\n",
            "Reusing existing connection to www.dropbox.com:443.\n",
            "HTTP request sent, awaiting response... 302 Found\n",
            "Location: https://uc9d619d83e739169c4077e37d20.dl.dropboxusercontent.com/cd/0/inline/Cl3scvZmO95VDoD57DqYSmzqVbpSXPtjSXvM8qN1MbaB4Y_4350ZH4SmDT-WGNo2wsOjtQWxVEGepj5bCghI8A7ZNYVAFkV-T10FuZMNqk6Fp-38NSVQsPF1SRfGarRqMCNUVcLFnFaOLqJTInSd5NWD/file# [following]\n",
            "--2025-03-14 12:49:11--  https://uc9d619d83e739169c4077e37d20.dl.dropboxusercontent.com/cd/0/inline/Cl3scvZmO95VDoD57DqYSmzqVbpSXPtjSXvM8qN1MbaB4Y_4350ZH4SmDT-WGNo2wsOjtQWxVEGepj5bCghI8A7ZNYVAFkV-T10FuZMNqk6Fp-38NSVQsPF1SRfGarRqMCNUVcLFnFaOLqJTInSd5NWD/file\n",
            "Resolving uc9d619d83e739169c4077e37d20.dl.dropboxusercontent.com (uc9d619d83e739169c4077e37d20.dl.dropboxusercontent.com)... 162.125.81.15, 2620:100:6035:15::a27d:550f\n",
            "Connecting to uc9d619d83e739169c4077e37d20.dl.dropboxusercontent.com (uc9d619d83e739169c4077e37d20.dl.dropboxusercontent.com)|162.125.81.15|:443... connected.\n",
            "HTTP request sent, awaiting response... 302 Found\n",
            "Location: /cd/0/inline2/Cl2Gj9oyCXoNfwAkuJlH7p52aQgCX7UT3JCNM28s29SrPXGB9HLX2L0D5xKvBv6VgHSVy9ZkBl09e43ZsTLSGiDvAmNBJrxbMuy4TAA4oBoDsdYF6nyRs9SRy1FvD3oYAGKMoxl-p5SVkxsKQDft3J2feqQ_Pqyn8r7kHum2ouXm-Bu19QmGppWFI9OVDX4q1c561dBSmcs9op-Qmuxg7AjTyHPoyD91lSVdQHZ3y1csqlPHT5W7kcoFbLRTrYTMOd1i93_cpwHTOroFFphYWVV_QMQVG1FSe1fB_xh3o_-Szd3iI_B8x2XjuhVAebc-b62405gRCoCIkDio791Pk4olMECOM4tEBBx12KSllq8MZ2vKdZS9r-n7stTrR6drAfI/file [following]\n",
            "--2025-03-14 12:49:12--  https://uc9d619d83e739169c4077e37d20.dl.dropboxusercontent.com/cd/0/inline2/Cl2Gj9oyCXoNfwAkuJlH7p52aQgCX7UT3JCNM28s29SrPXGB9HLX2L0D5xKvBv6VgHSVy9ZkBl09e43ZsTLSGiDvAmNBJrxbMuy4TAA4oBoDsdYF6nyRs9SRy1FvD3oYAGKMoxl-p5SVkxsKQDft3J2feqQ_Pqyn8r7kHum2ouXm-Bu19QmGppWFI9OVDX4q1c561dBSmcs9op-Qmuxg7AjTyHPoyD91lSVdQHZ3y1csqlPHT5W7kcoFbLRTrYTMOd1i93_cpwHTOroFFphYWVV_QMQVG1FSe1fB_xh3o_-Szd3iI_B8x2XjuhVAebc-b62405gRCoCIkDio791Pk4olMECOM4tEBBx12KSllq8MZ2vKdZS9r-n7stTrR6drAfI/file\n",
            "Reusing existing connection to uc9d619d83e739169c4077e37d20.dl.dropboxusercontent.com:443.\n",
            "HTTP request sent, awaiting response... 200 OK\n",
            "Length: 1887436800 (1.8G) [application/octet-stream]\n",
            "Saving to: ‘Dataset.tar.gz.aa?dl=0’\n",
            "\n",
            "Dataset.tar.gz.aa?d   4%[                    ]  86.01M  13.5MB/s    eta 2m 45s ^C\n",
            "--2025-03-14 12:49:22--  https://www.dropbox.com/s/z840g69e7lnkayo/Dataset.tar.gz.ab?dl=0\n",
            "Resolving www.dropbox.com (www.dropbox.com)... 162.125.81.18, 2620:100:6031:18::a27d:5112\n",
            "Connecting to www.dropbox.com (www.dropbox.com)|162.125.81.18|:443... connected.\n",
            "HTTP request sent, awaiting response... 302 Found\n",
            "Location: https://www.dropbox.com/scl/fi/7e612efkfdnnil56karho/Dataset.tar.gz.ab?rlkey=yyczqa6f4ogq72calefq6gw3l&dl=0 [following]\n",
            "--2025-03-14 12:49:22--  https://www.dropbox.com/scl/fi/7e612efkfdnnil56karho/Dataset.tar.gz.ab?rlkey=yyczqa6f4ogq72calefq6gw3l&dl=0\n",
            "Reusing existing connection to www.dropbox.com:443.\n",
            "HTTP request sent, awaiting response... 302 Found\n",
            "Location: https://uc3372881cde2618ee62cef495ff.dl.dropboxusercontent.com/cd/0/inline/Cl3jebMjVJSEQEKOR2qCdpbkn_yj2jNFeHMmdk6gb_ASRuelGkMiYGcEr-jR7rDS21wAaXRFYcEtRD9LNpTHIuuzwwfGNM9bZ5rc1zY1odOjJw6VtzFCiOxKLpBTeqD4GaXoSHz5Hx4Vf57sxpyX3CiS/file# [following]\n",
            "--2025-03-14 12:49:23--  https://uc3372881cde2618ee62cef495ff.dl.dropboxusercontent.com/cd/0/inline/Cl3jebMjVJSEQEKOR2qCdpbkn_yj2jNFeHMmdk6gb_ASRuelGkMiYGcEr-jR7rDS21wAaXRFYcEtRD9LNpTHIuuzwwfGNM9bZ5rc1zY1odOjJw6VtzFCiOxKLpBTeqD4GaXoSHz5Hx4Vf57sxpyX3CiS/file\n",
            "Resolving uc3372881cde2618ee62cef495ff.dl.dropboxusercontent.com (uc3372881cde2618ee62cef495ff.dl.dropboxusercontent.com)... 162.125.81.15, 2620:100:6035:15::a27d:550f\n",
            "Connecting to uc3372881cde2618ee62cef495ff.dl.dropboxusercontent.com (uc3372881cde2618ee62cef495ff.dl.dropboxusercontent.com)|162.125.81.15|:443... connected.\n",
            "HTTP request sent, awaiting response... 302 Found\n",
            "Location: /cd/0/inline2/Cl2vrbaPZJ8I_CG_W1a4ezqxDOwkxEgu_rk6LglIJK1Qh6uFEtsHHnyRk3ft1iwm6bce8KIfXjGPacSnx0CsiUABvI5Fad7o50aJnwKq48rb3JCB2e7H190PAw9ieA5y73ZZB06_490XwSNwo-1RFwAn9yyoqOKDNzZ1slpXasnXsLMe5O4dMhIfoeLCwzFnTZ4D83_uK_wDL3_xvINfGh8Be7DrdR7GbBUNNdaL4ctnf3estzdbrqch9eqLXVad0sESb7KGpVtKlzH-C_rXEQ73sNYQaIO4tQmAsXRERh2ADd2yyEXPs_9yJuXtdWNZh_P3dvUnADVhzWfpC-CU-sbfagMv9iCyAgNpXKLCPN091YCKDCC5NXg1ZvVRZawigOQ/file [following]\n",
            "--2025-03-14 12:49:24--  https://uc3372881cde2618ee62cef495ff.dl.dropboxusercontent.com/cd/0/inline2/Cl2vrbaPZJ8I_CG_W1a4ezqxDOwkxEgu_rk6LglIJK1Qh6uFEtsHHnyRk3ft1iwm6bce8KIfXjGPacSnx0CsiUABvI5Fad7o50aJnwKq48rb3JCB2e7H190PAw9ieA5y73ZZB06_490XwSNwo-1RFwAn9yyoqOKDNzZ1slpXasnXsLMe5O4dMhIfoeLCwzFnTZ4D83_uK_wDL3_xvINfGh8Be7DrdR7GbBUNNdaL4ctnf3estzdbrqch9eqLXVad0sESb7KGpVtKlzH-C_rXEQ73sNYQaIO4tQmAsXRERh2ADd2yyEXPs_9yJuXtdWNZh_P3dvUnADVhzWfpC-CU-sbfagMv9iCyAgNpXKLCPN091YCKDCC5NXg1ZvVRZawigOQ/file\n",
            "Reusing existing connection to uc3372881cde2618ee62cef495ff.dl.dropboxusercontent.com:443.\n",
            "HTTP request sent, awaiting response... 200 OK\n",
            "Length: 1887436800 (1.8G) [application/octet-stream]\n",
            "Saving to: ‘Dataset.tar.gz.ab?dl=0’\n",
            "\n",
            "Dataset.tar.gz.ab?d   0%[                    ]  15.30M  25.4MB/s               ^C\n",
            "--2025-03-14 12:49:25--  https://www.dropbox.com/s/hl081e1ggonio81/Dataset.tar.gz.ac?dl=0\n",
            "^C\n",
            "--2025-03-14 12:49:25--  https://www.dropbox.com/s/fh3zd8ow668c4th/Dataset.tar.gz.ad?dl=0\n",
            "Resolving www.dropbox.com (www.dropbox.com)... 162.125.81.18, 2620:100:6031:18::a27d:5112\n",
            "Connecting to www.dropbox.com (www.dropbox.com)|162.125.81.18|:443... connected.\n",
            "HTTP request sent, awaiting response... 302 Found\n",
            "Location: https://www.dropbox.com/scl/fi/hm8ngliql3cu7f17y91dm/Dataset.tar.gz.ad?rlkey=wajcsw3g509ohequ4btd87plv&dl=0 [following]\n",
            "--2025-03-14 12:49:26--  https://www.dropbox.com/scl/fi/hm8ngliql3cu7f17y91dm/Dataset.tar.gz.ad?rlkey=wajcsw3g509ohequ4btd87plv&dl=0\n",
            "Reusing existing connection to www.dropbox.com:443.\n",
            "HTTP request sent, awaiting response... 302 Found\n",
            "Location: https://uc1a5bec4cdd6ada9f9d7aca2eea.dl.dropboxusercontent.com/cd/0/inline/Cl1G5xR9hl7RHg_NQYToYXxNnOdmzHJwkOn45h30muKnAdPkMHaVQtITwmqazf22ucAlGXerEdqOSic_iGGoJsinT9y2kDWJl8HlWp7R13OjPHUffxdomw5ZzE_46lzPz4lZUjpJ07QPsGkJ1Wz6lxmG/file# [following]\n",
            "--2025-03-14 12:49:26--  https://uc1a5bec4cdd6ada9f9d7aca2eea.dl.dropboxusercontent.com/cd/0/inline/Cl1G5xR9hl7RHg_NQYToYXxNnOdmzHJwkOn45h30muKnAdPkMHaVQtITwmqazf22ucAlGXerEdqOSic_iGGoJsinT9y2kDWJl8HlWp7R13OjPHUffxdomw5ZzE_46lzPz4lZUjpJ07QPsGkJ1Wz6lxmG/file\n",
            "Resolving uc1a5bec4cdd6ada9f9d7aca2eea.dl.dropboxusercontent.com (uc1a5bec4cdd6ada9f9d7aca2eea.dl.dropboxusercontent.com)... 162.125.81.15, 2620:100:6031:15::a27d:510f\n",
            "Connecting to uc1a5bec4cdd6ada9f9d7aca2eea.dl.dropboxusercontent.com (uc1a5bec4cdd6ada9f9d7aca2eea.dl.dropboxusercontent.com)|162.125.81.15|:443... connected.\n",
            "HTTP request sent, awaiting response... ^C\n",
            "--2025-03-14 12:49:27--  https://www.dropbox.com/s/ydzygoy2pv6gw9d/Dataset.tar.gz.ae?dl=0\n",
            "Resolving www.dropbox.com (www.dropbox.com)... 162.125.81.18, 2620:100:6031:18::a27d:5112\n",
            "Connecting to www.dropbox.com (www.dropbox.com)|162.125.81.18|:443... connected.\n",
            "HTTP request sent, awaiting response... ^C\n",
            "Dataset/\n",
            "Dataset/uttr-f2e2dc9d3a6c471abd6464a316d1e21a.pt\n",
            "Dataset/uttr-d6283f2c24b84aa5881b27415769f217.pt\n",
            "Dataset/uttr-876cfe8be8af42c8b44db61f18dc116e.pt\n",
            "Dataset/uttr-10b85e1ea19840db890b9ad577f2d340.pt\n",
            "Dataset/uttr-1d8378c98a1b4b239092c4e5e29155f8.pt\n",
            "Dataset/uttr-b3af2e2e4a144833bec132a241397df6.pt\n",
            "Dataset/uttr-b3cd7b36c9304129ac428a3b4cea71bf.pt\n",
            "Dataset/uttr-2c835c0439954345a45dd6cb35454132.pt\n",
            "Dataset/uttr-e2edd8f4e0d748918c81d26d76fae0cc.pt\n",
            "Dataset/uttr-8b5c42c6d9f9484cb0062ea6230e09ba.pt\n",
            "Dataset/uttr-d58cca4648274afdb7ca7249e80eff7d.pt\n",
            "Dataset/uttr-84895affd5c048d7832d382724a1e6ad.pt\n",
            "Dataset/uttr-22c7da18451a4de083f47bded5606b46.pt\n",
            "Dataset/uttr-cf49d451c7a145c28f66778fd6f07daa.pt\n",
            "Dataset/uttr-c2b4af18407541a999fc31061c9101ad.pt\n",
            "Dataset/uttr-09c4fe14d70f4c53943b234935595b07.pt\n",
            "Dataset/uttr-31b9712105eb4e19a0582f29f925b5d7.pt\n",
            "Dataset/uttr-0c0b4e6a6d4c48f2b0706aa57dc0ba3f.pt\n",
            "Dataset/uttr-ca6e61765d3a4bb9b09912807bbfb753.pt\n",
            "Dataset/uttr-bd7e800ded814cb99b0f792456a2ed2a.pt\n",
            "Dataset/uttr-46928e7d2e9244d7bf776327d1c99f99.pt\n",
            "Dataset/uttr-d6ab21f886d2491eb0a70329eb055b54.pt\n",
            "Dataset/uttr-c2d3b949f76c43e5bb0e639e2bfbfd20.pt\n",
            "Dataset/uttr-c5e9d2cd75d44fb0b54976294104fde2.pt\n",
            "Dataset/uttr-898dceebfaa145348f41c2703ad1ba2e.pt\n",
            "Dataset/uttr-3b9331f577b8486c86e64f1faf29c12d.pt\n",
            "Dataset/uttr-74a5775cf1f34ba994acb52309e2c553.pt\n",
            "Dataset/uttr-5f26679974214eba82de41baefcbd986.pt\n",
            "Dataset/uttr-c735694105874ca9b403b94ac23427df.pt\n",
            "Dataset/uttr-f00d189d47474e18a859255a71775582.pt\n",
            "Dataset/uttr-c549d4e61dae46c2889c3d45108d9507.pt\n",
            "Dataset/uttr-c6256982ef184a5ab1e2d52509139a7e.pt\n",
            "Dataset/uttr-098318aae6fa4b63b7414cab345bc0cf.pt\n",
            "Dataset/uttr-9936d09ecaea4abe8775c8f9d30de7d4.pt\n",
            "Dataset/uttr-d92f40f782fe47f5936ddc7c9ebece38.pt\n",
            "Dataset/uttr-f608739970fb4740b5b0007d942f2e8a.pt\n",
            "Dataset/uttr-c77605ef75b143458e610b92383f4cc0.pt\n",
            "Dataset/uttr-a0e37b72cfb54ca9a15a8052e1524149.pt\n",
            "Dataset/uttr-f9d70230580349f4908f6805a5197a47.pt\n",
            "Dataset/uttr-80647cc0435645de98e6cd0a435b8d26.pt\n",
            "Dataset/uttr-e4e04f894eb2477d9289e34ee6c71632.pt\n",
            "Dataset/uttr-85457d11d8174be9a1dabfc9c53a2357.pt\n",
            "Dataset/uttr-9b0e2c1ca4954b0dbf196f9e73c93119.pt\n",
            "Dataset/uttr-6d5e5ed52ec24a8fafab5d890ba001da.pt\n",
            "Dataset/uttr-b05c0774c4ec45209269a2dfb4b4e4da.pt\n",
            "Dataset/uttr-d36093ae7547481ea5a5dee812d3f7b1.pt\n",
            "Dataset/uttr-b63472b279404d51bd65995f36e018a7.pt\n",
            "Dataset/uttr-c8b55bedf28e43bd821ea1b93fb39225.pt\n",
            "Dataset/uttr-01a120b2e6224ee6911e4c2f70612984.pt\n",
            "^C\n"
          ]
        }
      ]
    },
    {
      "cell_type": "code",
      "source": [
        "!ls Dataset | grep -v \"\\.pt$\""
      ],
      "metadata": {
        "id": "o2RVQG-HTtrS"
      },
      "execution_count": null,
      "outputs": []
    },
    {
      "cell_type": "markdown",
      "metadata": {
        "id": "v1gYr_aoNDue"
      },
      "source": [
        "# Data"
      ]
    },
    {
      "cell_type": "markdown",
      "metadata": {
        "id": "Mz_NpuAipk3h"
      },
      "source": [
        "## Dataset\n",
        "- Original dataset is [Voxceleb1](https://www.robots.ox.ac.uk/~vgg/data/voxceleb/).\n",
        "- The [license](https://creativecommons.org/licenses/by/4.0/) and [complete version](https://www.robots.ox.ac.uk/~vgg/data/voxceleb/files/license.txt) of Voxceleb1.\n",
        "- We randomly select 600 speakers from Voxceleb1.\n",
        "- Then preprocess the raw waveforms into mel-spectrograms.\n",
        "\n",
        "- Args:\n",
        "  - data_dir: The path to the data directory.\n",
        "  - metadata_path: The path to the metadata.\n",
        "  - segment_len: The length of audio segment for training.\n",
        "- The architecture of data directory \\\\\n",
        "  - data directory \\\\\n",
        "  |---- metadata.json \\\\\n",
        "  |---- testdata.json \\\\\n",
        "  |---- mapping.json \\\\\n",
        "  |---- uttr-{random string}.pt \\\\\n",
        "\n",
        "- The information in metadata\n",
        "  - \"n_mels\": The dimention of mel-spectrogram.\n",
        "  - \"speakers\": A dictionary.\n",
        "    - Key: speaker ids.\n",
        "    - value: \"feature_path\" and \"mel_len\"\n",
        "\n",
        "\n",
        "For efficiency, we segment the mel-spectrograms into segments in the traing step."
      ]
    },
    {
      "cell_type": "code",
      "metadata": {
        "id": "cd7hoGhYtbXQ"
      },
      "source": [
        "import os\n",
        "import json\n",
        "import torch\n",
        "import random\n",
        "from pathlib import Path\n",
        "from torch.utils.data import Dataset\n",
        "from torch.nn.utils.rnn import pad_sequence\n",
        "\n",
        "\n",
        "class myDataset(Dataset):\n",
        "  def __init__(self, data_dir, segment_len=128):\n",
        "    self.data_dir = data_dir\n",
        "    self.segment_len = segment_len\n",
        "\n",
        "    # Load the mapping from speaker neme to their corresponding id.\n",
        "    mapping_path = Path(data_dir) / \"mapping.json\"\n",
        "    mapping = json.load(mapping_path.open())\n",
        "    self.speaker2id = mapping[\"speaker2id\"]\n",
        "\n",
        "    # Load metadata of training data.\n",
        "    metadata_path = Path(data_dir) / \"metadata.json\"\n",
        "    metadata = json.load(open(metadata_path))[\"speakers\"]\n",
        "\n",
        "    # Get the total number of speaker.\n",
        "    self.speaker_num = len(metadata.keys())\n",
        "    self.data = []\n",
        "    for speaker in metadata.keys():\n",
        "      for utterances in metadata[speaker]:\n",
        "        self.data.append([utterances[\"feature_path\"], self.speaker2id[speaker]])\n",
        "\n",
        "  def __len__(self):\n",
        "    return len(self.data)\n",
        "\n",
        "  def __getitem__(self, index):\n",
        "    feat_path, speaker = self.data[index]\n",
        "    # Load preprocessed mel-spectrogram.\n",
        "    mel = torch.load(os.path.join(self.data_dir, feat_path))\n",
        "\n",
        "    # Segmemt mel-spectrogram into \"segment_len\" frames.\n",
        "    if len(mel) > self.segment_len:\n",
        "      # Randomly get the starting point of the segment.\n",
        "      start = random.randint(0, len(mel) - self.segment_len)\n",
        "      # Get a segment with \"segment_len\" frames.\n",
        "      mel = torch.FloatTensor(mel[start:start+self.segment_len])\n",
        "    else:\n",
        "      mel = torch.FloatTensor(mel)\n",
        "    # Turn the speaker id into long for computing loss later.\n",
        "    speaker = torch.FloatTensor([speaker]).long()\n",
        "\n",
        "    # print(f\"in Dataset : {mel.shape}\")\n",
        "    return mel, speaker\n",
        "\n",
        "  def get_speaker_number(self):\n",
        "    return self.speaker_num"
      ],
      "execution_count": null,
      "outputs": []
    },
    {
      "cell_type": "markdown",
      "metadata": {
        "id": "mqJxjoi_NGnB"
      },
      "source": [
        "## Dataloader\n",
        "- Split dataset into training dataset(90%) and validation dataset(10%).\n",
        "- Create dataloader to iterate the data.\n"
      ]
    },
    {
      "cell_type": "code",
      "metadata": {
        "id": "zuT1AuFENI8t"
      },
      "source": [
        "import torch\n",
        "from torch.utils.data import DataLoader, random_split\n",
        "from torch.nn.utils.rnn import pad_sequence\n",
        "\n",
        "\n",
        "def collate_batch(batch):\n",
        "  # Process features within a batch.\n",
        "  \"\"\"Collate a batch of data.\"\"\"\n",
        "  mel, speaker = zip(*batch)\n",
        "  # Because we train the model batch by batch, we need to pad the features in the same batch to make their lengths the same.\n",
        "  mel = pad_sequence(mel, batch_first=True, padding_value=-20)    # pad log 10^(-20) which is very small value.\n",
        "  # mel: (batch size, length, 40)\n",
        "  return mel, torch.FloatTensor(speaker).long()\n",
        "\n",
        "\n",
        "def get_dataloader(data_dir, batch_size, n_workers):\n",
        "  \"\"\"Generate dataloader\"\"\"\n",
        "  dataset = myDataset(data_dir)\n",
        "  speaker_num = dataset.get_speaker_number()\n",
        "  # Split dataset into training dataset and validation dataset\n",
        "  trainlen = int(0.9 * len(dataset))\n",
        "  lengths = [trainlen, len(dataset) - trainlen]\n",
        "  trainset, validset = random_split(dataset, lengths)\n",
        "\n",
        "  ### Worth Learning ###\n",
        "\n",
        "  train_loader = DataLoader(\n",
        "    trainset,\n",
        "    batch_size=batch_size,\n",
        "    shuffle=True,\n",
        "    drop_last=True,\n",
        "    num_workers=n_workers,\n",
        "    pin_memory=True,\n",
        "    collate_fn=collate_batch,\n",
        "  )\n",
        "  valid_loader = DataLoader(\n",
        "    validset,\n",
        "    batch_size=batch_size,\n",
        "    num_workers=n_workers,\n",
        "    drop_last=True,\n",
        "    pin_memory=True,\n",
        "    collate_fn=collate_batch,\n",
        "  )\n",
        "\n",
        "  return train_loader, valid_loader, speaker_num\n"
      ],
      "execution_count": null,
      "outputs": []
    },
    {
      "cell_type": "markdown",
      "metadata": {
        "id": "X0x6eXiHpr4R"
      },
      "source": [
        "# Model\n",
        "- TransformerEncoderLayer:\n",
        "  - Base transformer encoder layer in [Attention Is All You Need](https://arxiv.org/abs/1706.03762)\n",
        "  - Parameters:\n",
        "    - d_model: the number of expected features of the input (required).\n",
        "\n",
        "    - nhead: the number of heads of the multiheadattention models (required).\n",
        "\n",
        "    - dim_feedforward: the dimension of the feedforward network model (default=2048).\n",
        "\n",
        "    - dropout: the dropout value (default=0.1).\n",
        "\n",
        "    - activation: the activation function of intermediate layer, relu or gelu (default=relu).\n",
        "\n",
        "- TransformerEncoder:\n",
        "  - TransformerEncoder is a stack of N transformer encoder layers\n",
        "  - Parameters:\n",
        "    - encoder_layer: an instance of the TransformerEncoderLayer() class (required).\n",
        "\n",
        "    - num_layers: the number of sub-encoder-layers in the encoder (required).\n",
        "\n",
        "    - norm: the layer normalization component (optional)."
      ]
    },
    {
      "cell_type": "code",
      "metadata": {
        "id": "SHX4eVj4tjtd"
      },
      "source": [
        "import torch\n",
        "import torch.nn as nn\n",
        "import torch.nn.functional as F\n",
        "\n",
        "\n",
        "class Classifier(nn.Module):\n",
        "  def __init__(self, d_model=80, n_spks=600, dropout=0.1):\n",
        "    super().__init__()\n",
        "    # Project the dimension of features from that of input into d_model.\n",
        "    self.prenet = nn.Linear(40, d_model)\n",
        "    # TODO:\n",
        "    #   Change Transformer to Conformer.\n",
        "    #   https://arxiv.org/abs/2005.08100\n",
        "    self.encoder_layer = nn.TransformerEncoderLayer(\n",
        "      d_model=d_model, dim_feedforward=256, nhead=2\n",
        "    )\n",
        "    # self.encoder = nn.TransformerEncoder(self.encoder_layer, num_layers=2)\n",
        "\n",
        "    # Project the the dimension of features from d_model into speaker nums.\n",
        "    self.pred_layer = nn.Sequential(\n",
        "      nn.Linear(d_model, d_model),\n",
        "      nn.ReLU(),\n",
        "      nn.Linear(d_model, n_spks),\n",
        "    )\n",
        "\n",
        "  def forward(self, mels):\n",
        "    \"\"\"\n",
        "    args:\n",
        "      mels: (batch size, length, 40)\n",
        "    return:\n",
        "      out: (batch size, n_spks)\n",
        "    \"\"\"\n",
        "    # out: (batch size, length, d_model)\n",
        "    out = self.prenet(mels)\n",
        "    # out: (length, batch size, d_model)\n",
        "    out = out.permute(1, 0, 2)\n",
        "    # The encoder layer expect features in the shape of (length, batch size, d_model).\n",
        "    out = self.encoder_layer(out)\n",
        "    # out: (batch size, length, d_model)\n",
        "    out = out.transpose(0, 1)\n",
        "    # mean pooling\n",
        "    stats = out.mean(dim=1)\n",
        "\n",
        "    # out: (batch, n_spks)\n",
        "    out = self.pred_layer(stats)\n",
        "    return out\n"
      ],
      "execution_count": null,
      "outputs": []
    },
    {
      "cell_type": "markdown",
      "metadata": {
        "id": "-__DolPGpvDZ"
      },
      "source": [
        "# Learning rate schedule\n",
        "- For transformer architecture, the design of learning rate schedule is different from that of CNN.\n",
        "- Previous works show that the warmup of learning rate is useful for training models with transformer architectures.\n",
        "- The warmup schedule\n",
        "  - Set learning rate to 0 in the beginning.\n",
        "  - The learning rate increases linearly from 0 to initial learning rate during warmup period."
      ]
    },
    {
      "cell_type": "code",
      "metadata": {
        "id": "K-0816BntqT9"
      },
      "source": [
        "import math\n",
        "\n",
        "import torch\n",
        "from torch.optim import Optimizer\n",
        "from torch.optim.lr_scheduler import LambdaLR\n",
        "\n",
        "\n",
        "def get_cosine_schedule_with_warmup(\n",
        "  optimizer: Optimizer,\n",
        "  num_warmup_steps: int,\n",
        "  num_training_steps: int,\n",
        "  num_cycles: float = 0.5,\n",
        "  last_epoch: int = -1,\n",
        "):\n",
        "  \"\"\"\n",
        "  Create a schedule with a learning rate that decreases following the values of the cosine function between the\n",
        "  initial lr set in the optimizer to 0, after a warmup period during which it increases linearly between 0 and the\n",
        "  initial lr set in the optimizer.\n",
        "\n",
        "  Args:\n",
        "    optimizer (:class:`~torch.optim.Optimizer`):\n",
        "      The optimizer for which to schedule the learning rate.\n",
        "    num_warmup_steps (:obj:`int`):\n",
        "      The number of steps for the warmup phase.\n",
        "    num_training_steps (:obj:`int`):\n",
        "      The total number of training steps.\n",
        "    num_cycles (:obj:`float`, `optional`, defaults to 0.5):\n",
        "      The number of waves in the cosine schedule (the defaults is to just decrease from the max value to 0\n",
        "      following a half-cosine).\n",
        "    last_epoch (:obj:`int`, `optional`, defaults to -1):\n",
        "      The index of the last epoch when resuming training.\n",
        "\n",
        "  Return:\n",
        "    :obj:`torch.optim.lr_scheduler.LambdaLR` with the appropriate schedule.\n",
        "  \"\"\"\n",
        "\n",
        "  def lr_lambda(current_step):\n",
        "    # Warmup\n",
        "    if current_step < num_warmup_steps:\n",
        "      return float(current_step) / float(max(1, num_warmup_steps))\n",
        "    # decadence\n",
        "    progress = float(current_step - num_warmup_steps) / float(\n",
        "      max(1, num_training_steps - num_warmup_steps)\n",
        "    )\n",
        "    return max(\n",
        "      0.0, 0.5 * (1.0 + math.cos(math.pi * float(num_cycles) * 2.0 * progress))\n",
        "    )\n",
        "\n",
        "  return LambdaLR(optimizer, lr_lambda, last_epoch)\n"
      ],
      "execution_count": null,
      "outputs": []
    },
    {
      "cell_type": "markdown",
      "metadata": {
        "id": "IP03FFo9K8DS"
      },
      "source": [
        "# Model Function\n",
        "- Model forward function."
      ]
    },
    {
      "cell_type": "code",
      "metadata": {
        "id": "fohaLEFJK9-t"
      },
      "source": [
        "import torch\n",
        "\n",
        "\n",
        "### Worth Learning ###\n",
        "\n",
        "\n",
        "def model_fn(batch, model, criterion, device):\n",
        "  \"\"\"Forward a batch through the model.\"\"\"\n",
        "\n",
        "  mels, labels = batch\n",
        "  mels = mels.to(device)\n",
        "  labels = labels.to(device)\n",
        "\n",
        "  outs = model(mels)\n",
        "\n",
        "  loss = criterion(outs, labels)\n",
        "\n",
        "  # Get the speaker id with highest probability.\n",
        "  preds = outs.argmax(1)\n",
        "  # Compute accuracy.\n",
        "  accuracy = torch.mean((preds == labels).float())\n",
        "\n",
        "  return loss, accuracy\n"
      ],
      "execution_count": null,
      "outputs": []
    },
    {
      "cell_type": "markdown",
      "metadata": {
        "id": "F7cg-YrzLQcf"
      },
      "source": [
        "# Validate\n",
        "- Calculate accuracy of the validation set."
      ]
    },
    {
      "cell_type": "code",
      "metadata": {
        "id": "mD-_p6nWLO2L"
      },
      "source": [
        "from tqdm import tqdm\n",
        "import torch\n",
        "\n",
        "\n",
        "def valid(dataloader, model, criterion, device):\n",
        "  \"\"\"Validate on validation set.\"\"\"\n",
        "\n",
        "  model.eval()\n",
        "  running_loss = 0.0\n",
        "  running_accuracy = 0.0\n",
        "  pbar = tqdm(total=len(dataloader.dataset), ncols=0, desc=\"Valid\", unit=\" uttr\")\n",
        "\n",
        "  for i, batch in enumerate(dataloader):\n",
        "    with torch.no_grad():\n",
        "      loss, accuracy = model_fn(batch, model, criterion, device)\n",
        "      running_loss += loss.item()\n",
        "      running_accuracy += accuracy.item()\n",
        "\n",
        "    pbar.update(dataloader.batch_size)\n",
        "    pbar.set_postfix(\n",
        "      loss=f\"{running_loss / (i+1):.2f}\",\n",
        "      accuracy=f\"{running_accuracy / (i+1):.2f}\",\n",
        "    )\n",
        "\n",
        "  pbar.close()\n",
        "  model.train()\n",
        "\n",
        "  return running_loss/ len(dataloader), running_accuracy / len(dataloader)\n"
      ],
      "execution_count": null,
      "outputs": []
    },
    {
      "cell_type": "markdown",
      "metadata": {
        "id": "srmaioS2O02w"
      },
      "source": [
        "# Drawing\n",
        "- Draw the training map\n",
        "- Draw the validating map"
      ]
    },
    {
      "cell_type": "code",
      "source": [
        "import matplotlib.pyplot as plt\n",
        "\n",
        "def draw_training_map(training_loss, training_acc):\n",
        "  x_axis = list(range(len(training_loss)))\n",
        "  plt.plot(x_axis,training_loss,\"b\",label=\"training_loss\")\n",
        "  plt.plot(x_axis,training_acc,\"r\",label=\"training_acc\")\n",
        "  plt.legend()\n",
        "  plt.show()\n",
        "\n",
        "def draw_validating_map(validating_loss, validating_acc):\n",
        "  x_axis = list(range(len(validating_loss)))\n",
        "  plt.plot(x_axis,validating_loss,\"b\",label=\"validating_loss\")\n",
        "  plt.plot(x_axis,validating_acc,\"r\",label=\"validating_acc\")\n",
        "  plt.legend()\n",
        "  plt.show()\n",
        "\n"
      ],
      "metadata": {
        "id": "atUAHsBUMQpZ"
      },
      "execution_count": null,
      "outputs": []
    },
    {
      "cell_type": "markdown",
      "metadata": {
        "id": "noHXyal5p1W5"
      },
      "source": [
        "# Main function"
      ]
    },
    {
      "cell_type": "code",
      "metadata": {
        "id": "chRQE7oYtw62",
        "colab": {
          "base_uri": "https://localhost:8080/",
          "height": 339
        },
        "outputId": "b95ac392-f837-44c0-b8b2-d1c2a2815452"
      },
      "source": [
        "from tqdm import tqdm\n",
        "\n",
        "import torch\n",
        "import torch.nn as nn\n",
        "from torch.optim import AdamW\n",
        "## AdamW 更接近 L2 正規化，而 AdamW 中的 theta(-1) (原本的參數) 會被乘以一個 decay 常數\n",
        "## AdamW 更適合 Transformer Learning\n",
        "from torch.utils.data import DataLoader, random_split\n",
        "\n",
        "\n",
        "def parse_args():\n",
        "  \"\"\"arguments\"\"\"\n",
        "  config = {\n",
        "    \"data_dir\": \"./Dataset\",\n",
        "    \"save_path\": \"model.ckpt\",\n",
        "    \"batch_size\": 32,\n",
        "    \"n_workers\": 8,\n",
        "    \"valid_steps\": 2000,\n",
        "    \"warmup_steps\": 1000,\n",
        "    \"save_steps\": 10000,\n",
        "    \"total_steps\": 70000,\n",
        "  }\n",
        "\n",
        "  return config\n",
        "\n",
        "\n",
        "def main(\n",
        "  data_dir,\n",
        "  save_path,\n",
        "  batch_size,\n",
        "  n_workers,\n",
        "  valid_steps,\n",
        "  warmup_steps,\n",
        "  total_steps,\n",
        "  save_steps,\n",
        "):\n",
        "  \"\"\"Main function.\"\"\"\n",
        "  device = torch.device(\"cuda\" if torch.cuda.is_available() else \"cpu\")\n",
        "  print(f\"[Info]: Use {device} now!\")\n",
        "\n",
        "  train_loader, valid_loader, speaker_num = get_dataloader(data_dir, batch_size, n_workers)\n",
        "  train_iterator = iter(train_loader)\n",
        "  print(f\"[Info]: Finish loading data!\",flush = True)\n",
        "\n",
        "  model = Classifier(n_spks=speaker_num).to(device)\n",
        "  criterion = nn.CrossEntropyLoss()\n",
        "  optimizer = AdamW(model.parameters(), lr=1e-3)\n",
        "  scheduler = get_cosine_schedule_with_warmup(optimizer, warmup_steps, total_steps)\n",
        "  print(f\"[Info]: Finish creating model!\",flush = True)\n",
        "\n",
        "  best_accuracy = -1.0\n",
        "  best_state_dict = None\n",
        "\n",
        "  training_loss = []\n",
        "  training_acc = []\n",
        "  validating_loss = []\n",
        "  validating_acc = []\n",
        "\n",
        "  pbar = tqdm(total=valid_steps, ncols=0, desc=\"Train\", unit=\" step\")\n",
        "\n",
        "  for step in range(total_steps):\n",
        "    # Get data\n",
        "    try:\n",
        "      batch = next(train_iterator)\n",
        "    except StopIteration:\n",
        "      train_iterator = iter(train_loader)\n",
        "      batch = next(train_iterator)\n",
        "\n",
        "    model.train()\n",
        "\n",
        "    loss, accuracy = model_fn(batch, model, criterion, device)\n",
        "    batch_loss = loss.item()\n",
        "    batch_accuracy = accuracy.item()\n",
        "\n",
        "    training_loss.append(batch_loss)\n",
        "    training_acc.append(batch_accuracy)\n",
        "\n",
        "    # Updata model\n",
        "    loss.backward()\n",
        "    optimizer.step()\n",
        "    scheduler.step()\n",
        "    optimizer.zero_grad()\n",
        "\n",
        "    # Log\n",
        "    pbar.update()\n",
        "    pbar.set_postfix(\n",
        "      loss=f\"{batch_loss:.2f}\",\n",
        "      accuracy=f\"{batch_accuracy:.2f}\",\n",
        "      step=step + 1,\n",
        "    )\n",
        "\n",
        "    # Do validation\n",
        "    if (step + 1) % valid_steps == 0:\n",
        "      pbar.close()\n",
        "\n",
        "      valid_loss, valid_accuracy = valid(valid_loader, model, criterion, device)\n",
        "\n",
        "      validating_loss.append(valid_loss)\n",
        "      validating_acc.append(valid_accuracy)\n",
        "\n",
        "      # keep the best model\n",
        "      if valid_accuracy > best_accuracy:\n",
        "        best_accuracy = valid_accuracy\n",
        "        best_state_dict = model.state_dict()\n",
        "\n",
        "      pbar = tqdm(total=valid_steps, ncols=0, desc=\"Train\", unit=\" step\")\n",
        "\n",
        "    # Save the best model so far.\n",
        "    if (step + 1) % save_steps == 0 and best_state_dict is not None:\n",
        "      torch.save(best_state_dict, save_path)\n",
        "      pbar.write(f\"Step {step + 1}, best model saved. (accuracy={best_accuracy:.4f})\")\n",
        "\n",
        "  draw_training_map(training_loss, training_acc)\n",
        "  draw_validating_map(validating_loss, validating_acc)\n",
        "\n",
        "  pbar.close()\n",
        "\n",
        "\n",
        "if __name__ == \"__main__\":\n",
        "  main(**parse_args())\n"
      ],
      "execution_count": null,
      "outputs": [
        {
          "output_type": "stream",
          "name": "stdout",
          "text": [
            "[Info]: Use cuda now!\n"
          ]
        },
        {
          "output_type": "error",
          "ename": "FileNotFoundError",
          "evalue": "[Errno 2] No such file or directory: 'Dataset/mapping.json'",
          "traceback": [
            "\u001b[0;31m---------------------------------------------------------------------------\u001b[0m",
            "\u001b[0;31mFileNotFoundError\u001b[0m                         Traceback (most recent call last)",
            "\u001b[0;32m<ipython-input-10-9484b52c0294>\u001b[0m in \u001b[0;36m<cell line: 0>\u001b[0;34m()\u001b[0m\n\u001b[1;32m    118\u001b[0m \u001b[0;34m\u001b[0m\u001b[0m\n\u001b[1;32m    119\u001b[0m \u001b[0;32mif\u001b[0m \u001b[0m__name__\u001b[0m \u001b[0;34m==\u001b[0m \u001b[0;34m\"__main__\"\u001b[0m\u001b[0;34m:\u001b[0m\u001b[0;34m\u001b[0m\u001b[0;34m\u001b[0m\u001b[0m\n\u001b[0;32m--> 120\u001b[0;31m   \u001b[0mmain\u001b[0m\u001b[0;34m(\u001b[0m\u001b[0;34m**\u001b[0m\u001b[0mparse_args\u001b[0m\u001b[0;34m(\u001b[0m\u001b[0;34m)\u001b[0m\u001b[0;34m)\u001b[0m\u001b[0;34m\u001b[0m\u001b[0;34m\u001b[0m\u001b[0m\n\u001b[0m",
            "\u001b[0;32m<ipython-input-10-9484b52c0294>\u001b[0m in \u001b[0;36mmain\u001b[0;34m(data_dir, save_path, batch_size, n_workers, valid_steps, warmup_steps, total_steps, save_steps)\u001b[0m\n\u001b[1;32m     39\u001b[0m   \u001b[0mprint\u001b[0m\u001b[0;34m(\u001b[0m\u001b[0;34mf\"[Info]: Use {device} now!\"\u001b[0m\u001b[0;34m)\u001b[0m\u001b[0;34m\u001b[0m\u001b[0;34m\u001b[0m\u001b[0m\n\u001b[1;32m     40\u001b[0m \u001b[0;34m\u001b[0m\u001b[0m\n\u001b[0;32m---> 41\u001b[0;31m   \u001b[0mtrain_loader\u001b[0m\u001b[0;34m,\u001b[0m \u001b[0mvalid_loader\u001b[0m\u001b[0;34m,\u001b[0m \u001b[0mspeaker_num\u001b[0m \u001b[0;34m=\u001b[0m \u001b[0mget_dataloader\u001b[0m\u001b[0;34m(\u001b[0m\u001b[0mdata_dir\u001b[0m\u001b[0;34m,\u001b[0m \u001b[0mbatch_size\u001b[0m\u001b[0;34m,\u001b[0m \u001b[0mn_workers\u001b[0m\u001b[0;34m)\u001b[0m\u001b[0;34m\u001b[0m\u001b[0;34m\u001b[0m\u001b[0m\n\u001b[0m\u001b[1;32m     42\u001b[0m   \u001b[0mtrain_iterator\u001b[0m \u001b[0;34m=\u001b[0m \u001b[0miter\u001b[0m\u001b[0;34m(\u001b[0m\u001b[0mtrain_loader\u001b[0m\u001b[0;34m)\u001b[0m\u001b[0;34m\u001b[0m\u001b[0;34m\u001b[0m\u001b[0m\n\u001b[1;32m     43\u001b[0m   \u001b[0mprint\u001b[0m\u001b[0;34m(\u001b[0m\u001b[0;34mf\"[Info]: Finish loading data!\"\u001b[0m\u001b[0;34m,\u001b[0m\u001b[0mflush\u001b[0m \u001b[0;34m=\u001b[0m \u001b[0;32mTrue\u001b[0m\u001b[0;34m)\u001b[0m\u001b[0;34m\u001b[0m\u001b[0;34m\u001b[0m\u001b[0m\n",
            "\u001b[0;32m<ipython-input-4-2f35158b4915>\u001b[0m in \u001b[0;36mget_dataloader\u001b[0;34m(data_dir, batch_size, n_workers)\u001b[0m\n\u001b[1;32m     16\u001b[0m \u001b[0;32mdef\u001b[0m \u001b[0mget_dataloader\u001b[0m\u001b[0;34m(\u001b[0m\u001b[0mdata_dir\u001b[0m\u001b[0;34m,\u001b[0m \u001b[0mbatch_size\u001b[0m\u001b[0;34m,\u001b[0m \u001b[0mn_workers\u001b[0m\u001b[0;34m)\u001b[0m\u001b[0;34m:\u001b[0m\u001b[0;34m\u001b[0m\u001b[0;34m\u001b[0m\u001b[0m\n\u001b[1;32m     17\u001b[0m   \u001b[0;34m\"\"\"Generate dataloader\"\"\"\u001b[0m\u001b[0;34m\u001b[0m\u001b[0;34m\u001b[0m\u001b[0m\n\u001b[0;32m---> 18\u001b[0;31m   \u001b[0mdataset\u001b[0m \u001b[0;34m=\u001b[0m \u001b[0mmyDataset\u001b[0m\u001b[0;34m(\u001b[0m\u001b[0mdata_dir\u001b[0m\u001b[0;34m)\u001b[0m\u001b[0;34m\u001b[0m\u001b[0;34m\u001b[0m\u001b[0m\n\u001b[0m\u001b[1;32m     19\u001b[0m   \u001b[0mspeaker_num\u001b[0m \u001b[0;34m=\u001b[0m \u001b[0mdataset\u001b[0m\u001b[0;34m.\u001b[0m\u001b[0mget_speaker_number\u001b[0m\u001b[0;34m(\u001b[0m\u001b[0;34m)\u001b[0m\u001b[0;34m\u001b[0m\u001b[0;34m\u001b[0m\u001b[0m\n\u001b[1;32m     20\u001b[0m   \u001b[0;31m# Split dataset into training dataset and validation dataset\u001b[0m\u001b[0;34m\u001b[0m\u001b[0;34m\u001b[0m\u001b[0m\n",
            "\u001b[0;32m<ipython-input-3-2284761056ba>\u001b[0m in \u001b[0;36m__init__\u001b[0;34m(self, data_dir, segment_len)\u001b[0m\n\u001b[1;32m     15\u001b[0m     \u001b[0;31m# Load the mapping from speaker neme to their corresponding id.\u001b[0m\u001b[0;34m\u001b[0m\u001b[0;34m\u001b[0m\u001b[0m\n\u001b[1;32m     16\u001b[0m     \u001b[0mmapping_path\u001b[0m \u001b[0;34m=\u001b[0m \u001b[0mPath\u001b[0m\u001b[0;34m(\u001b[0m\u001b[0mdata_dir\u001b[0m\u001b[0;34m)\u001b[0m \u001b[0;34m/\u001b[0m \u001b[0;34m\"mapping.json\"\u001b[0m\u001b[0;34m\u001b[0m\u001b[0;34m\u001b[0m\u001b[0m\n\u001b[0;32m---> 17\u001b[0;31m     \u001b[0mmapping\u001b[0m \u001b[0;34m=\u001b[0m \u001b[0mjson\u001b[0m\u001b[0;34m.\u001b[0m\u001b[0mload\u001b[0m\u001b[0;34m(\u001b[0m\u001b[0mmapping_path\u001b[0m\u001b[0;34m.\u001b[0m\u001b[0mopen\u001b[0m\u001b[0;34m(\u001b[0m\u001b[0;34m)\u001b[0m\u001b[0;34m)\u001b[0m\u001b[0;34m\u001b[0m\u001b[0;34m\u001b[0m\u001b[0m\n\u001b[0m\u001b[1;32m     18\u001b[0m     \u001b[0mself\u001b[0m\u001b[0;34m.\u001b[0m\u001b[0mspeaker2id\u001b[0m \u001b[0;34m=\u001b[0m \u001b[0mmapping\u001b[0m\u001b[0;34m[\u001b[0m\u001b[0;34m\"speaker2id\"\u001b[0m\u001b[0;34m]\u001b[0m\u001b[0;34m\u001b[0m\u001b[0;34m\u001b[0m\u001b[0m\n\u001b[1;32m     19\u001b[0m \u001b[0;34m\u001b[0m\u001b[0m\n",
            "\u001b[0;32m/usr/lib/python3.11/pathlib.py\u001b[0m in \u001b[0;36mopen\u001b[0;34m(self, mode, buffering, encoding, errors, newline)\u001b[0m\n\u001b[1;32m   1042\u001b[0m         \u001b[0;32mif\u001b[0m \u001b[0;34m\"b\"\u001b[0m \u001b[0;32mnot\u001b[0m \u001b[0;32min\u001b[0m \u001b[0mmode\u001b[0m\u001b[0;34m:\u001b[0m\u001b[0;34m\u001b[0m\u001b[0;34m\u001b[0m\u001b[0m\n\u001b[1;32m   1043\u001b[0m             \u001b[0mencoding\u001b[0m \u001b[0;34m=\u001b[0m \u001b[0mio\u001b[0m\u001b[0;34m.\u001b[0m\u001b[0mtext_encoding\u001b[0m\u001b[0;34m(\u001b[0m\u001b[0mencoding\u001b[0m\u001b[0;34m)\u001b[0m\u001b[0;34m\u001b[0m\u001b[0;34m\u001b[0m\u001b[0m\n\u001b[0;32m-> 1044\u001b[0;31m         \u001b[0;32mreturn\u001b[0m \u001b[0mio\u001b[0m\u001b[0;34m.\u001b[0m\u001b[0mopen\u001b[0m\u001b[0;34m(\u001b[0m\u001b[0mself\u001b[0m\u001b[0;34m,\u001b[0m \u001b[0mmode\u001b[0m\u001b[0;34m,\u001b[0m \u001b[0mbuffering\u001b[0m\u001b[0;34m,\u001b[0m \u001b[0mencoding\u001b[0m\u001b[0;34m,\u001b[0m \u001b[0merrors\u001b[0m\u001b[0;34m,\u001b[0m \u001b[0mnewline\u001b[0m\u001b[0;34m)\u001b[0m\u001b[0;34m\u001b[0m\u001b[0;34m\u001b[0m\u001b[0m\n\u001b[0m\u001b[1;32m   1045\u001b[0m \u001b[0;34m\u001b[0m\u001b[0m\n\u001b[1;32m   1046\u001b[0m     \u001b[0;32mdef\u001b[0m \u001b[0mread_bytes\u001b[0m\u001b[0;34m(\u001b[0m\u001b[0mself\u001b[0m\u001b[0;34m)\u001b[0m\u001b[0;34m:\u001b[0m\u001b[0;34m\u001b[0m\u001b[0;34m\u001b[0m\u001b[0m\n",
            "\u001b[0;31mFileNotFoundError\u001b[0m: [Errno 2] No such file or directory: 'Dataset/mapping.json'"
          ]
        }
      ]
    },
    {
      "cell_type": "markdown",
      "metadata": {
        "id": "0R2rx3AyHpQ-"
      },
      "source": [
        "# Inference"
      ]
    },
    {
      "cell_type": "markdown",
      "metadata": {
        "id": "pSuI3WY9Fz78"
      },
      "source": [
        "## Dataset of inference"
      ]
    },
    {
      "cell_type": "code",
      "metadata": {
        "id": "4evns0055Dsx"
      },
      "source": [
        "import os\n",
        "import json\n",
        "import torch\n",
        "from pathlib import Path\n",
        "from torch.utils.data import Dataset\n",
        "\n",
        "\n",
        "class InferenceDataset(Dataset):\n",
        "  def __init__(self, data_dir):\n",
        "    testdata_path = Path(data_dir) / \"testdata.json\"\n",
        "    metadata = json.load(testdata_path.open())\n",
        "    self.data_dir = data_dir\n",
        "    self.data = metadata[\"utterances\"]\n",
        "\n",
        "  def __len__(self):\n",
        "    return len(self.data)\n",
        "\n",
        "  def __getitem__(self, index):\n",
        "    utterance = self.data[index]\n",
        "    feat_path = utterance[\"feature_path\"]\n",
        "    mel = torch.load(os.path.join(self.data_dir, feat_path))\n",
        "\n",
        "    return feat_path, mel\n",
        "\n",
        "\n",
        "def inference_collate_batch(batch):\n",
        "  \"\"\"Collate a batch of data.\"\"\"\n",
        "  feat_paths, mels = zip(*batch)\n",
        "\n",
        "  return feat_paths, torch.stack(mels)\n"
      ],
      "execution_count": null,
      "outputs": []
    },
    {
      "cell_type": "markdown",
      "metadata": {
        "id": "oAinHBG1GIWv"
      },
      "source": [
        "## Main funcrion of Inference"
      ]
    },
    {
      "cell_type": "code",
      "metadata": {
        "id": "yQaTt7VDHoRI"
      },
      "source": [
        "import json\n",
        "import csv\n",
        "from pathlib import Path\n",
        "from tqdm.notebook import tqdm\n",
        "\n",
        "import torch\n",
        "from torch.utils.data import DataLoader\n",
        "\n",
        "def parse_args():\n",
        "  \"\"\"arguments\"\"\"\n",
        "  config = {\n",
        "    \"data_dir\": \"./Dataset\",\n",
        "    \"model_path\": \"./model.ckpt\",\n",
        "    \"output_path\": \"./output.csv\",\n",
        "  }\n",
        "\n",
        "  return config\n",
        "\n",
        "\n",
        "def main(\n",
        "  data_dir,\n",
        "  model_path,\n",
        "  output_path,\n",
        "):\n",
        "  \"\"\"Main function.\"\"\"\n",
        "  device = torch.device(\"cuda\" if torch.cuda.is_available() else \"cpu\")\n",
        "  print(f\"[Info]: Use {device} now!\")\n",
        "\n",
        "  mapping_path = Path(data_dir) / \"mapping.json\"\n",
        "  mapping = json.load(mapping_path.open())\n",
        "\n",
        "  dataset = InferenceDataset(data_dir)\n",
        "  dataloader = DataLoader(\n",
        "    dataset,\n",
        "    batch_size=1,\n",
        "    shuffle=False,\n",
        "    drop_last=False,\n",
        "    num_workers=8,\n",
        "    collate_fn=inference_collate_batch,\n",
        "  )\n",
        "  print(f\"[Info]: Finish loading data!\",flush = True)\n",
        "\n",
        "  speaker_num = len(mapping[\"id2speaker\"])\n",
        "  model = Classifier(n_spks=speaker_num).to(device)\n",
        "  model.load_state_dict(torch.load(model_path))\n",
        "  model.eval()\n",
        "  print(f\"[Info]: Finish creating model!\",flush = True)\n",
        "\n",
        "  results = [[\"Id\", \"Category\"]]\n",
        "  for feat_paths, mels in tqdm(dataloader):\n",
        "    with torch.no_grad():\n",
        "      mels = mels.to(device)\n",
        "      outs = model(mels)\n",
        "      preds = outs.argmax(1).cpu().numpy()\n",
        "      for feat_path, pred in zip(feat_paths, preds):\n",
        "        results.append([feat_path, mapping[\"id2speaker\"][str(pred)]])\n",
        "\n",
        "  with open(output_path, 'w', newline='') as csvfile:\n",
        "    writer = csv.writer(csvfile)\n",
        "    writer.writerows(results)\n",
        "\n",
        "\n",
        "if __name__ == \"__main__\":\n",
        "  main(**parse_args())\n"
      ],
      "execution_count": null,
      "outputs": []
    }
  ]
}