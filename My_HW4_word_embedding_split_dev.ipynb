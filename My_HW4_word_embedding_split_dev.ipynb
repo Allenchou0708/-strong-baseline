{
  "cells": [
    {
      "cell_type": "code",
      "source": [
        "# submission : https://www.kaggle.com/competitions/ml-2017fall-hw4/leaderboard?tab=public"
      ],
      "metadata": {
        "id": "sVOSRh4wkPIx"
      },
      "execution_count": null,
      "outputs": []
    },
    {
      "cell_type": "code",
      "execution_count": null,
      "metadata": {
        "colab": {
          "base_uri": "https://localhost:8080/"
        },
        "id": "EhO1XaGEfeMJ",
        "outputId": "23f2d7e9-2a4f-44c5-d08a-cd13a5551f1c"
      },
      "outputs": [
        {
          "output_type": "stream",
          "name": "stdout",
          "text": [
            "Drive already mounted at /content/drive; to attempt to forcibly remount, call drive.mount(\"/content/drive\", force_remount=True).\n"
          ]
        }
      ],
      "source": [
        "from google.colab import drive\n",
        "drive.mount('/content/drive')"
      ]
    },
    {
      "cell_type": "code",
      "execution_count": null,
      "metadata": {
        "colab": {
          "base_uri": "https://localhost:8080/"
        },
        "id": "_I1KQWCOg8TI",
        "outputId": "d6ccb011-7b31-4e9c-c97d-4af2be6d362d"
      },
      "outputs": [
        {
          "output_type": "stream",
          "name": "stdout",
          "text": [
            "[Errno 2] No such file or directory: './drive/MyDrive/NTU_ML2017_Hung-yi-Lee_HW/HW4'\n",
            "/content/drive/MyDrive/NTU_ML2017_Hung-yi-Lee_HW/HW4\n"
          ]
        }
      ],
      "source": [
        "cd ./drive/MyDrive/NTU_ML2017_Hung-yi-Lee_HW/HW4"
      ]
    },
    {
      "cell_type": "code",
      "execution_count": null,
      "metadata": {
        "id": "F9gkoZtJgcNS"
      },
      "outputs": [],
      "source": [
        "import torch\n",
        "import torch.nn as nn\n",
        "from torch.utils.data import Dataset, DataLoader\n",
        "import csv\n",
        "import numpy as np\n",
        "import pandas as pd\n",
        "from tqdm import tqdm\n",
        "import matplotlib.pyplot as plt\n",
        "import math\n",
        "from torch.nn.utils.rnn import pad_sequence, pack_padded_sequence, pad_packed_sequence\n"
      ]
    },
    {
      "cell_type": "code",
      "execution_count": null,
      "metadata": {
        "id": "pxv5XLQ0cqPH"
      },
      "outputs": [],
      "source": [
        "def train_label_data_slice_words(file_name):\n",
        "  train_label_x = []\n",
        "  train_label_y = []\n",
        "  with open(file_name,\"r\") as file: # encoding?\n",
        "    for line in file:\n",
        "      label, content = line.split(\"+++$+++\")\n",
        "      train_label_x.append(content.split(\" \"))\n",
        "      train_label_y.append(float(label))\n",
        "\n",
        "  return train_label_x, train_label_y\n",
        "\n",
        "\n",
        "def train_unlabel_data_slice_words(file_name):\n",
        "  train_unlabel_x = []\n",
        "  with open(file_name,\"r\") as file: # encoding?\n",
        "    for line in file:\n",
        "      train_unlabel_x.append(line.split(\" \"))\n",
        "\n",
        "  return train_unlabel_x\n",
        "\n",
        "\n",
        "def test_data_slice_words(file_name):\n",
        "  test_x = []\n",
        "  with open(file_name,\"r\") as file: # encoding?\n",
        "    csv_reader = csv.reader(file)\n",
        "    next(csv_reader)\n",
        "    for seg_line in csv_reader:\n",
        "      test_x.append(seg_line[1].split(\" \"))\n",
        "\n",
        "  return test_x\n",
        "\n",
        "def word_to_wordvector(sentence_list, word_vector_model):\n",
        "  # print(sentence_list)\n",
        "  sentence_list_word_vector = []\n",
        "  for sentence in sentence_list:\n",
        "    for word in sentence:\n",
        "      if(not word in word_vector_model.wv.key_to_index):\n",
        "        print(f\"{word} no word vector\")\n",
        "\n",
        "    sentence_list_word_vector.append(torch.tensor([word_vector_model.wv[word] for word in sentence]))\n",
        "\n",
        "  sentence_list_word_vector = pad_sequence(sentence_list_word_vector, batch_first=True, padding_value=0) # 使用 padding 時 要用 list 包裹 torch-tensor\n",
        "\n",
        "  # print(len(sentence_list_word_vector))\n",
        "  # for sentence in sentence_list_word_vector:\n",
        "  #   for word_vector in sentence:\n",
        "  #     # if len(word_vector) == word_vector_size:\n",
        "  #     print(len(word_vector))\n",
        "\n",
        "  sentence_list_word_vector = np.array(sentence_list_word_vector)\n",
        "\n",
        "  return sentence_list_word_vector"
      ]
    },
    {
      "cell_type": "code",
      "execution_count": null,
      "metadata": {
        "colab": {
          "base_uri": "https://localhost:8080/"
        },
        "id": "oKX50tgtfUey",
        "outputId": "043e2c71-f631-4b8e-aea8-842baaf7706a"
      },
      "outputs": [
        {
          "output_type": "stream",
          "name": "stdout",
          "text": [
            "['', 'leavingg', 'to', 'wait', 'for', 'kaysie', 'to', 'arrive', 'myspacin', 'itt']\n",
            "[1.0, 1.0, 0.0, 1.0, 0.0, 0.0, 1.0, 1.0, 0.0, 1.0]\n",
            "[['mkhang', 'mlbo', '.', 'dami', 'niang', 'followers', 'ee', '.', 'di', 'q', 'rin', 'naman', 'sia', 'masisisi', '.', 'desperate', 'n', 'kng', 'desperate', ',', 'pero', 'dpt', 'tlga', 'replyn', 'nia', 'q', '=', 'd\\n']]\n",
            "['omg', 'last', 'day', 'sooon', 'n', 'of', 'primary', 'noooooo', 'x', 'im']\n",
            "200000\n",
            "1178614\n",
            "200000\n"
          ]
        }
      ],
      "source": [
        "train_label_x, train_label_y = train_label_data_slice_words(\"./data/training_label.txt\")\n",
        "train_unlabel_x = train_unlabel_data_slice_words(\"./data/training_nolabel.txt\")\n",
        "test_x = test_data_slice_words(\"./data/testing_data.txt\")\n",
        "\n",
        "print(train_label_x[1][:10])\n",
        "print(train_label_y[:10])\n",
        "print(train_unlabel_x[:1][:10])\n",
        "print(test_x[1][:10])\n",
        "\n",
        "print(len(train_label_x))\n",
        "print(len(train_unlabel_x))\n",
        "print(len(test_x))"
      ]
    },
    {
      "cell_type": "code",
      "source": [
        "train_label_x = train_label_x[:20000]\n",
        "train_label_y = train_label_y[:20000]\n",
        "train_unlabel_x = train_unlabel_x[:20000]\n",
        "test_x = test_x[:2000]\n",
        "\n",
        "print(len(train_label_x))\n",
        "print(len(train_unlabel_x))\n",
        "print(len(test_x))"
      ],
      "metadata": {
        "colab": {
          "base_uri": "https://localhost:8080/"
        },
        "id": "npQVC8hY04HQ",
        "outputId": "74949618-2af0-45bb-9fc1-54404da811cc"
      },
      "execution_count": null,
      "outputs": [
        {
          "output_type": "stream",
          "name": "stdout",
          "text": [
            "20000\n",
            "20000\n",
            "2000\n"
          ]
        }
      ]
    },
    {
      "cell_type": "code",
      "execution_count": null,
      "metadata": {
        "id": "7tmQbCWKkeIG"
      },
      "outputs": [],
      "source": [
        "word_vector_size = 150 #@param {type: \"integer\"}"
      ]
    },
    {
      "cell_type": "code",
      "execution_count": null,
      "metadata": {
        "id": "JiZsI3cYj6oA"
      },
      "outputs": [],
      "source": [
        "from gensim.models import Word2Vec\n",
        "\n",
        "# word_embedding_train_x = train_label_x\n",
        "word_embedding_train_x = train_label_x + train_unlabel_x + test_x\n",
        "\n",
        "\n",
        "wordvector_model = Word2Vec(word_embedding_train_x, vector_size=150, window=11, min_count=1, workers=4,sg=1)"
      ]
    },
    {
      "cell_type": "code",
      "execution_count": null,
      "metadata": {
        "id": "xkyX23BDm3u0",
        "colab": {
          "base_uri": "https://localhost:8080/"
        },
        "outputId": "52cb2686-8471-4d15-d3ae-6d5cc274c3e9"
      },
      "outputs": [
        {
          "output_type": "stream",
          "name": "stdout",
          "text": [
            "(4000, 40, 150)\n",
            "(4000,)\n",
            "(16000, 40, 150)\n",
            "(16000,)\n"
          ]
        }
      ],
      "source": [
        "train_label_x_np = word_to_wordvector(train_label_x, wordvector_model)\n",
        "train_label_y_np = np.array(train_label_y)\n",
        "# train_unlabel_x_np = word_to_wordvector(train_unlabel_x, model)\n",
        "# test_x_np = word_to_wordvector(test_x_np, model)\n",
        "\n",
        "\n",
        "validation_rate = 0.2\n",
        "validation_index = int(math.floor(train_label_x_np.shape[0] * validation_rate))\n",
        "\n",
        "val_label_x_np = train_label_x_np[:validation_index]\n",
        "val_label_y_np = train_label_y_np[:validation_index]\n",
        "train_label_x_np = train_label_x_np[validation_index:]\n",
        "train_label_y_np = train_label_y_np[validation_index:]\n",
        "\n",
        "\n",
        "print(val_label_x_np.shape)\n",
        "print(val_label_y_np.shape)\n",
        "print(train_label_x_np.shape)\n",
        "print(train_label_y_np.shape)\n"
      ]
    },
    {
      "cell_type": "code",
      "source": [
        "print(type(train_label_x_np))\n",
        "print(type(train_label_y_np))"
      ],
      "metadata": {
        "colab": {
          "base_uri": "https://localhost:8080/"
        },
        "id": "3HOiWEei_NdQ",
        "outputId": "b77c1472-f5bd-462e-ca6e-0276bb77583d"
      },
      "execution_count": null,
      "outputs": [
        {
          "output_type": "stream",
          "name": "stdout",
          "text": [
            "<class 'numpy.ndarray'>\n",
            "<class 'numpy.ndarray'>\n"
          ]
        }
      ]
    },
    {
      "cell_type": "code",
      "execution_count": null,
      "metadata": {
        "id": "k4A1td-KkEoD"
      },
      "outputs": [],
      "source": [
        "class LabeledMessageData(Dataset):\n",
        "  def __init__(self,x,y):\n",
        "    self.x = x\n",
        "    self.y = y\n",
        "\n",
        "  def __getitem__(self,idx):\n",
        "    return self.x[idx], self.y[idx]\n",
        "\n",
        "  def __len__(self):\n",
        "    return self.x.shape[0]\n",
        "\n",
        "class UnlabeledMessageData(Dataset):\n",
        "  def __init__(self,x):\n",
        "    self.x = x\n",
        "\n",
        "  def __getitem__(self,idx):\n",
        "    return self.x[idx]\n",
        "\n",
        "  def __len__(self):\n",
        "    return self.x.shape[0]"
      ]
    },
    {
      "cell_type": "code",
      "execution_count": null,
      "metadata": {
        "id": "mNG7b0Qmm9jj"
      },
      "outputs": [],
      "source": [
        "train_label_data = LabeledMessageData(train_label_x_np, train_label_y_np)\n",
        "# train_unlabel_data = UnlabeledMessageData(train_unlabel_x)\n",
        "# test_data = UnlabeledMessageData(test_x)\n",
        "val_data = LabeledMessageData(val_label_x_np, val_label_y_np)\n",
        "\n",
        "train_label_dataloader = DataLoader(train_label_data, batch_size=128, shuffle=True)\n",
        "# train_unlabel_dataloader = DataLoader(train_unlabel_data, batch_size=128, shuffle=True)\n",
        "# test_dataloader = DataLoader(test_data, batch_size=128, shuffle=False)\n",
        "val_dataloader = DataLoader(val_data, batch_size=128, shuffle=False)\n",
        "\n"
      ]
    },
    {
      "cell_type": "code",
      "execution_count": null,
      "metadata": {
        "id": "DnaQH8myotgZ"
      },
      "outputs": [],
      "source": [
        "class SentimentModel(nn.Module):\n",
        "  def __init__(self,lstm_module_num,lstm_layer_num):\n",
        "    super(SentimentModel, self).__init__()\n",
        "    self.lstm = nn.LSTM(input_size=word_vector_size, hidden_size= lstm_module_num, num_layers=lstm_layer_num, batch_first=True) # lstm 需要吃等長的向量\n",
        "    self.linear = nn.Linear(lstm_module_num,1)\n",
        "    self.softmax = nn.Softmax()\n",
        "    self.sigmoid  = nn.Sigmoid()\n",
        "\n",
        "\n",
        "  def forward(self, x):\n",
        "    output, (last_output, last_memory) = self.lstm(x)\n",
        "    l1 = self.linear(last_output[-1,:,:])\n",
        "    # softmax_output = self.softmax(l1)\n",
        "    sigmoid_output = self.sigmoid(l1)\n",
        "    # return softmax_output\n",
        "    return sigmoid_output"
      ]
    },
    {
      "cell_type": "code",
      "source": [
        "epoch = 5 #@param {type: \"integer\"}\n",
        "\n",
        "learning_rate = 0.1 #@param {type:\"number\"}\n",
        "\n",
        "optim_method = \"sgd\" #@param [\"sgd\",\"adam\",\"rms\"]"
      ],
      "metadata": {
        "id": "-3vQLaaIKHML"
      },
      "execution_count": null,
      "outputs": []
    },
    {
      "cell_type": "code",
      "source": [
        "model = SentimentModel(64,2)\n",
        "model.to(\"cpu\")\n",
        "\n",
        "loss_function = nn.CrossEntropyLoss()\n",
        "if optim_method == \"sgd\":\n",
        "  optimizer = torch.optim.SGD(model.parameters(), lr=learning_rate)\n",
        "elif optim_method == \"adam\":\n",
        "  optimizer = torch.optim.Adam(model.parameters(), lr=learning_rate)\n",
        "elif optim_method == \"rms\":\n",
        "  optimizer = torch.optim.RMSprop(model.parameters(), lr=learning_rate, alpha=0.7)\n",
        "else:\n",
        "  raise Exception(\"no such optimizer\")"
      ],
      "metadata": {
        "id": "gPSZ5QVyKuBb"
      },
      "execution_count": null,
      "outputs": []
    },
    {
      "cell_type": "code",
      "execution_count": null,
      "metadata": {
        "id": "6_tSWDkbpXO5",
        "colab": {
          "base_uri": "https://localhost:8080/"
        },
        "outputId": "5e6a6a17-58c6-4643-af65-b27c7ce9f64e"
      },
      "outputs": [
        {
          "output_type": "stream",
          "name": "stderr",
          "text": [
            "100%|██████████| 5/5 [14:56<00:00, 179.40s/it]\n"
          ]
        }
      ],
      "source": [
        "\n",
        "#train\n",
        "\n",
        "train_total_loss = []\n",
        "train_total_acc = []\n",
        "val_total_loss = []\n",
        "val_total_acc = []\n",
        "\n",
        "for i in tqdm(range(epoch)):\n",
        "  train_loss = []\n",
        "  train_acc = []\n",
        "  val_loss = []\n",
        "  val_acc = []\n",
        "\n",
        "  for train_x, train_y in train_label_dataloader:\n",
        "\n",
        "    model.train()\n",
        "    optimizer.zero_grad()\n",
        "    ## 從 dataloader 拿出來一定是 tensor 嗎?\n",
        "\n",
        "    train_x = train_x.to(torch.float32).to(torch.device(\"cpu\"))\n",
        "    train_y = train_y.to(torch.float32).to(torch.device(\"cpu\"))\n",
        "\n",
        "    hypo_y = model(train_x).squeeze() #要記得 squeeze\n",
        "    # print(hypo_y.dtype)\n",
        "    # print(train_y.dtype)\n",
        "    loss = loss_function(hypo_y, train_y) #y_hat 的型態要是 float\n",
        "    train_loss.append(loss.item())\n",
        "    # print(hypo_y.shape)\n",
        "    # print(train_y.shape)\n",
        "    hypo_y_label = torch.tensor([0 if rate<0.5 else 1 for rate in hypo_y])\n",
        "    train_acc.append((hypo_y_label == train_y).to(torch.float32).mean().item())\n",
        "\n",
        "    loss.backward()\n",
        "    optimizer.step()\n",
        "\n",
        "    model.eval()\n",
        "    for val_x, val_y in val_dataloader:\n",
        "      with torch.no_grad():\n",
        "        val_x = val_x.to(torch.float32).to(\"cpu\")\n",
        "        val_y = val_y.to(torch.float32).to(\"cpu\")\n",
        "\n",
        "        hypo_y = model(val_x).squeeze()\n",
        "        loss = loss_function(hypo_y, val_y)\n",
        "\n",
        "        val_loss.append(loss.item())\n",
        "        hypo_y_label = torch.tensor([0 if rate<0.5 else 1 for rate in hypo_y])\n",
        "        val_acc.append((hypo_y_label == train_y).to(torch.float32).mean().item())\n",
        "\n",
        "\n",
        "  train_total_loss.append(np.mean(train_loss))\n",
        "  train_total_acc.append(np.mean(train_acc))\n",
        "  val_total_loss.append(np.mean(val_loss))\n",
        "  val_total_acc.append(np.mean(val_acc))\n"
      ]
    },
    {
      "cell_type": "code",
      "source": [
        "#plot\n",
        "x_axis = list(range(epoch))\n",
        "\n",
        "\n",
        "plt.plot(x_axis, train_total_loss, \"b\", label=\"train_loss\")\n",
        "plt.plot(x_axis, val_total_loss, \"r\", label=\"val_loss\")\n",
        "plt.legend()\n",
        "plt.show()\n",
        "\n",
        "plt.plot(x_axis, train_total_acc, \"b\", label=\"train_acc\")\n",
        "plt.plot(x_axis, val_total_acc, \"r\", label=\"val_acc\")\n",
        "plt.legend()\n",
        "plt.show()"
      ],
      "metadata": {
        "id": "omO102BB1S82",
        "colab": {
          "base_uri": "https://localhost:8080/",
          "height": 843
        },
        "outputId": "33d7b2c9-9586-4e17-eabb-5370c761d9af"
      },
      "execution_count": null,
      "outputs": [
        {
          "output_type": "display_data",
          "data": {
            "text/plain": [
              "<Figure size 640x480 with 1 Axes>"
            ],
            "image/png": "[encoded data removed]"
          },
          "metadata": {}
        },
        {
          "output_type": "display_data",
          "data": {
            "text/plain": [
              "<Figure size 640x480 with 1 Axes>"
            ],
            "image/png": "[encoded data removed]"
          },
          "metadata": {}
        }
      ]
    },
    {
      "cell_type": "code",
      "source": [
        "#semi-supervise learning"
      ],
      "metadata": {
        "id": "4rIRfjxu1WLh"
      },
      "execution_count": null,
      "outputs": []
    }
  ],
  "metadata": {
    "colab": {
      "provenance": []
    },
    "kernelspec": {
      "display_name": "Python 3",
      "name": "python3"
    },
    "language_info": {
      "name": "python"
    }
  },
  "nbformat": 4,
  "nbformat_minor": 0
}