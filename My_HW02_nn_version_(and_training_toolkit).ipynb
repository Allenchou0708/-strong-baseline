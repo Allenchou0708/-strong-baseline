{
  "cells": [
    {
      "cell_type": "code",
      "execution_count": null,
      "metadata": {
        "id": "0gdGqJM7fhJp",
        "colab": {
          "base_uri": "https://localhost:8080/"
        },
        "outputId": "d9de13e2-fba2-4f64-c6d1-710ba5accf49"
      },
      "outputs": [
        {
          "output_type": "stream",
          "name": "stdout",
          "text": [
            "Drive already mounted at /content/drive; to attempt to forcibly remount, call drive.mount(\"/content/drive\", force_remount=True).\n"
          ]
        }
      ],
      "source": [
        "# colab\n",
        "from google.colab import drive\n",
        "drive.mount('/content/drive')"
      ]
    },
    {
      "cell_type": "code",
      "execution_count": null,
      "metadata": {
        "colab": {
          "base_uri": "https://localhost:8080/"
        },
        "id": "TWNwuCLIgZI4",
        "outputId": "4a90b7be-78e1-4f7d-f9d6-1af0de83767d"
      },
      "outputs": [
        {
          "output_type": "stream",
          "name": "stdout",
          "text": [
            "[Errno 2] No such file or directory: './drive/MyDrive/NTU_ML2017_Hung-yi-Lee_HW/HW2'\n",
            "/content/drive/MyDrive/NTU_ML2017_Hung-yi-Lee_HW/HW2\n"
          ]
        }
      ],
      "source": [
        "cd ./drive/MyDrive/NTU_ML2017_Hung-yi-Lee_HW/HW2"
      ]
    },
    {
      "cell_type": "code",
      "execution_count": null,
      "metadata": {
        "id": "M9lYFFDdiTb1"
      },
      "outputs": [],
      "source": [
        "import numpy as np\n",
        "import matplotlib.pyplot as plt\n",
        "from tqdm import tqdm\n",
        "import csv\n",
        "import sys\n",
        "import torch\n",
        "import torch.nn as nn\n",
        "from torch.utils.data import Dataset, DataLoader\n"
      ]
    },
    {
      "cell_type": "code",
      "source": [
        "real_to_label = {\">50K\":1,\"<=50K\":0}\n",
        "label_to_real = {}\n",
        "\n",
        "for key,value in real_to_label.items():\n",
        "  label_to_real[value] = key"
      ],
      "metadata": {
        "id": "YUlvv-R2hkkl"
      },
      "execution_count": null,
      "outputs": []
    },
    {
      "cell_type": "code",
      "execution_count": null,
      "metadata": {
        "id": "960C4rYFfqVo"
      },
      "outputs": [],
      "source": [
        "# get train test data\n",
        "# data cleaning\n",
        "# one hot encoding (ex edu => (0,0,0,1))\n",
        "\n",
        "def read_header(file_name):\n",
        "\n",
        "  data = []\n",
        "\n",
        "  with open(f\"./data/{file_name}\",\"r\",newline='',encoding='big5') as file:\n",
        "    csv_reader = csv.reader(file)\n",
        "\n",
        "    for row in csv_reader:\n",
        "      data.append([ele.strip() for ele in row])\n",
        "\n",
        "  data = np.array(data)\n",
        "\n",
        "  return data[0,:]\n",
        "\n",
        "def read_feature(file_name):\n",
        "\n",
        "  data = []\n",
        "\n",
        "  csv_header = read_header(file_name)\n",
        "\n",
        "  with open(f\"./data/{file_name}\",\"r\",newline='',encoding='big5') as file:\n",
        "    csv_reader = csv.reader(file)\n",
        "    next(csv_reader)\n",
        "\n",
        "    for row in csv_reader:\n",
        "      new_row = [ f\"?_{csv_header[index]}\" if element.strip() == \"?\" else element.strip() for index,element in enumerate(row)]\n",
        "      data.append(new_row)\n",
        "\n",
        "  data = np.array(data)\n",
        "\n",
        "  return data\n",
        "\n",
        "def read_label(file_name,read_label):\n",
        "\n",
        "  data = []\n",
        "  csv_header = read_header(file_name)\n",
        "\n",
        "  with open(f\"./data/{file_name}\",\"r\",newline='',encoding='big5') as file:\n",
        "    csv_reader = csv.reader(file)\n",
        "    next(csv_reader)\n",
        "\n",
        "    for row in csv_reader:\n",
        "      data.append(real_to_label[row[14].strip()])\n",
        "\n",
        "  data = np.array(data)\n",
        "\n",
        "  return data\n",
        "\n",
        "\n",
        "def remove_feature(data,data_header_list,remove_name_list):\n",
        "  try :\n",
        "    remove_index_list = [data_header_list.tolist().index(name) for name in remove_name_list]\n",
        "  except :\n",
        "    print(\"Invalid header name\")\n",
        "    sys.exit()\n",
        "\n",
        "  index_list = [index for index in range(data.shape[1]) if index not in remove_index_list]\n",
        "  new_data = data[:,index_list]\n",
        "\n",
        "  return new_data\n",
        "\n",
        "\n",
        "def one_hot_encoding(data):\n",
        "  feature_list = []\n",
        "  feature_map = {}\n",
        "  int_index_list = []\n",
        "\n",
        "\n",
        "  data = data.T # feature * N\n",
        "\n",
        "  for index in range(data.shape[0]):\n",
        "    try :\n",
        "      int_ele = int(data[index][0])\n",
        "      feature_list.append(\"int\")\n",
        "      int_index_list.append(index)\n",
        "    except :\n",
        "      this_feature_list = list(set(data[index,:]))\n",
        "      feature_list.extend(this_feature_list)\n",
        "      for feature in this_feature_list:\n",
        "        feature_map[feature] = index\n",
        "\n",
        "\n",
        "  new_data = []\n",
        "\n",
        "  # print(feature_list)\n",
        "\n",
        "  for index,feature in enumerate(feature_list):\n",
        "    if feature == \"int\":\n",
        "      original_index = int_index_list[0]\n",
        "      int_index_list.pop(0)\n",
        "      this_feature_data = data[original_index,:].astype(float)\n",
        "      this_feature_data = (this_feature_data - this_feature_data.mean()) / this_feature_data.std()\n",
        "      new_data.append(this_feature_data.tolist())\n",
        "\n",
        "    elif feature == \"Holand-Netherlands\":\n",
        "      pass\n",
        "\n",
        "    else :\n",
        "      original_feature_index = feature_map[feature]\n",
        "      filter_feature_data = data[original_feature_index,:] == feature\n",
        "      this_feature_data = [1 if bol == True else 0 for bol in filter_feature_data]\n",
        "      new_data.append(this_feature_data)\n",
        "\n",
        "  new_data = np.array(new_data).T\n",
        "  return new_data\n",
        "\n",
        "# scalize\n",
        "\n"
      ]
    },
    {
      "cell_type": "code",
      "source": [
        "\n",
        "\n",
        "class ppl_data(Dataset):\n",
        "  def __init__(self,data_list,data_label):\n",
        "    self.data_list = data_list\n",
        "    self.data_label = data_label\n",
        "\n",
        "  def __getitem__(self,idx):\n",
        "    return self.data_list[idx,:], self.data_label[idx]\n",
        "\n",
        "  def __len__(self):\n",
        "    return self.data_list.shape[0]"
      ],
      "metadata": {
        "id": "xW4Bkk5_xpaG"
      },
      "execution_count": null,
      "outputs": []
    },
    {
      "cell_type": "code",
      "execution_count": null,
      "metadata": {
        "id": "EXSe4rhrteMI",
        "colab": {
          "base_uri": "https://localhost:8080/"
        },
        "outputId": "c12cb2a8-6115-4e77-d496-d5a388e73761"
      },
      "outputs": [
        {
          "output_type": "stream",
          "name": "stdout",
          "text": [
            "(32560, 14)\n",
            "(16281, 14)\n",
            "14\n",
            "(32560, 13)\n",
            "(16281, 13)\n",
            "(32560,)\n",
            "(32560, 107)\n",
            "(16281, 107)\n"
          ]
        }
      ],
      "source": [
        "train_x_raw = read_feature(\"train.csv\")\n",
        "train_x_raw = train_x_raw[:32560,:14]\n",
        "test_x_raw = read_feature(\"test.csv\")\n",
        "\n",
        "print(train_x_raw.shape)\n",
        "print(test_x_raw.shape)\n",
        "\n",
        "data_header = read_header(\"test.csv\")\n",
        "print(len(data_header))\n",
        "remove_feature_list = [\"education_num\"]\n",
        "train_x_raw = remove_feature(train_x_raw,data_header,remove_feature_list)\n",
        "test_x_raw = remove_feature(test_x_raw,data_header,remove_feature_list)\n",
        "\n",
        "print(train_x_raw.shape)\n",
        "print(test_x_raw.shape)\n",
        "\n",
        "\n",
        "train_y = read_label(\"train.csv\",real_to_label)\n",
        "train_y = train_y[:32560]\n",
        "\n",
        "print(train_y.shape)\n",
        "\n",
        "\n",
        "train_x = one_hot_encoding(train_x_raw)\n",
        "test_x = one_hot_encoding(test_x_raw)\n",
        "\n",
        "\n",
        "train_x = np.concatenate((train_x,np.ones(train_x.shape[0])[:,None]),axis=1)\n",
        "test_x = np.concatenate((test_x,np.ones(test_x.shape[0])[:,None]),axis=1)\n",
        "\n",
        "print(train_x.shape)\n",
        "print(test_x.shape)\n",
        "\n",
        "# 統一用 train feature list\n"
      ]
    },
    {
      "cell_type": "code",
      "source": [
        "import math\n",
        "val_rate = 0.2\n",
        "val_index = int(math.floor(train_x.shape[0] * 0.2))\n",
        "\n",
        "val_x = train_x[:val_index,:]\n",
        "val_y = train_y[:val_index]\n",
        "\n",
        "train_x = train_x[val_index:,:]\n",
        "train_y = train_y[val_index:]"
      ],
      "metadata": {
        "id": "7s4yI1Vv_oAK"
      },
      "execution_count": null,
      "outputs": []
    },
    {
      "cell_type": "code",
      "source": [
        "train_data_set = ppl_data(train_x,train_y)\n",
        "val_data_set = ppl_data(val_x,val_y)\n",
        "\n",
        "train_data_loader = DataLoader(train_data_set, batch_size=16,shuffle=True)\n",
        "val_data_loader = DataLoader(val_data_set,batch_size=16,shuffle=False)"
      ],
      "metadata": {
        "id": "pvjsG5_1y1Ut"
      },
      "execution_count": null,
      "outputs": []
    },
    {
      "cell_type": "code",
      "source": [
        "class ppl_model(nn.Module):\n",
        "  def __init__(self,feature_len):\n",
        "    super(ppl_model,self).__init__()\n",
        "    self.linear1 = nn.Linear(feature_len,50)\n",
        "    self.dropout1 = nn.Dropout(0.5)\n",
        "    self.relu1 = nn.ReLU()\n",
        "    self.linear2 = nn.Linear(50,1)\n",
        "    self.dropout2 = nn.Dropout(0.5)\n",
        "    self.relu2 = nn.ReLU()\n",
        "    self.linear3 = nn.Linear(30,1)\n",
        "    self.dropout3 = nn.Dropout(0.5)\n",
        "    self.sigmoid = nn.Sigmoid()\n",
        "    self.net = nn.Sequential(\n",
        "        self.linear1,\n",
        "        self.dropout1,\n",
        "        self.relu1,\n",
        "        self.linear2,\n",
        "        self.dropout2,\n",
        "        # self.relu2,\n",
        "        # self.linear3,\n",
        "        # self.dropout3,\n",
        "        self.sigmoid\n",
        "    )\n",
        "\n",
        "  def forward(self,x):\n",
        "    return self.net(x)"
      ],
      "metadata": {
        "id": "GyGkGhL7mlio"
      },
      "execution_count": null,
      "outputs": []
    },
    {
      "cell_type": "code",
      "source": [
        "\n",
        "model_name = \"\" #@param {type:\"string\"}\n",
        "\n",
        "epoch = 30 #@param {type:\"integer\"}\n",
        "\n",
        "learning_rate = 0.1 #@param {type:\"number\"}\n",
        "\n",
        "\n",
        "optim_method = \"sgd\" #@param [\"sgd\",\"adam\",\"rmsprop\"]\n",
        "\n",
        "\n"
      ],
      "metadata": {
        "id": "DG9X6gb_GH7m"
      },
      "execution_count": null,
      "outputs": []
    },
    {
      "cell_type": "code",
      "source": [
        "## 用 os find 是否有同名 model 發出警告"
      ],
      "metadata": {
        "id": "RnPwqJEyYn_Q"
      },
      "execution_count": null,
      "outputs": []
    },
    {
      "cell_type": "code",
      "source": [
        "import torch\n",
        "\n",
        "model = ppl_model(train_x.shape[1])\n",
        "model.to(torch.device(\"cpu\"))\n",
        "loss_function = nn.CrossEntropyLoss()\n",
        "\n",
        "if optim_method == \"sgd\":\n",
        "  optimizer = torch.optim.SGD(model.parameters(),lr=learning_rate)\n",
        "elif optim_method == \"adam\":\n",
        "  optimizer = torch.optim.Adam(model.parameters(),lr=learning_rate)\n",
        "elif optim_method == \"rmsprop\":\n",
        "  optimizer = torch.optim.RMSprop(model.parameters(),lr=learning_rate)\n",
        "else :\n",
        "  raise Exception(\"Invalid optimizer\")"
      ],
      "metadata": {
        "id": "Yoj64WkUGTYZ"
      },
      "execution_count": null,
      "outputs": []
    },
    {
      "cell_type": "code",
      "source": [
        "\n",
        "total_train_loss_list = []\n",
        "total_train_acc_list = []\n",
        "total_test_loss_list = []\n",
        "total_test_acc_list = []\n",
        "\n",
        "for i in tqdm(range(epoch)):\n",
        "  train_loss_list = []\n",
        "  train_acc_list = []\n",
        "  test_loss_list = []\n",
        "  test_acc_list = []\n",
        "\n",
        "\n",
        "  for batch_train_x, batch_train_y in train_data_loader:\n",
        "\n",
        "    model.train()\n",
        "    optimizer.zero_grad()\n",
        "    batch_train_x = batch_train_x.to(torch.float32).to(torch.device(\"cpu\"))\n",
        "    batch_train_y = batch_train_y.to(torch.float32).to(torch.device(\"cpu\"))\n",
        "    hypo_y = model(batch_train_x).squeeze()\n",
        "    loss = loss_function(hypo_y,batch_train_y)\n",
        "    loss.backward()\n",
        "    optimizer.step()\n",
        "\n",
        "    model.eval()\n",
        "    with torch.no_grad():\n",
        "      hypo_y = model(batch_train_x).squeeze()\n",
        "      loss = loss_function(hypo_y,batch_train_y)\n",
        "      train_loss_list.append(loss.item())\n",
        "      acc_hypo = (hypo_y >= 0.5).to(int)\n",
        "      train_acc = np.count_nonzero(acc_hypo == batch_train_y) / hypo_y.shape[0]\n",
        "      train_acc_list.append(train_acc)\n",
        "\n",
        "  train_loss_list = np.array(train_loss_list)\n",
        "  total_train_loss_list.append(train_loss_list.mean())\n",
        "  train_acc_list = np.array(train_acc_list)\n",
        "  total_train_acc_list.append(train_acc_list.mean())\n",
        "\n",
        "  model.eval()\n",
        "  for batch_val_x, batch_val_y in val_data_loader:\n",
        "    batch_val_x = batch_val_x.to(torch.float32).to(torch.device(\"cpu\"))\n",
        "    batch_val_y = batch_val_y.to(torch.float32).to(torch.device(\"cpu\"))\n",
        "\n",
        "    with torch.no_grad():\n",
        "      hypo_y = model(batch_val_x).squeeze()\n",
        "      loss = loss_function(hypo_y,batch_val_y)\n",
        "      test_loss_list.append(loss.item())\n",
        "\n",
        "      acc_hypo = (hypo_y >= 0.5).to(int)\n",
        "      test_acc = np.count_nonzero(acc_hypo == batch_val_y) / hypo_y.shape[0]\n",
        "      test_acc_list.append(test_acc)\n",
        "\n",
        "  test_loss_list = np.array(test_loss_list)\n",
        "  total_test_loss_list.append(test_loss_list.mean())\n",
        "  test_acc_list = np.array(test_acc_list)\n",
        "  total_test_acc_list.append(test_acc_list.mean())\n",
        "\n",
        "\n",
        "## 記下最佳 model、 acc 與 loss"
      ],
      "metadata": {
        "colab": {
          "base_uri": "https://localhost:8080/"
        },
        "id": "YSEWhdMUAWA6",
        "outputId": "8db7f1dd-f318-4fb7-a86c-555cebbbaa54"
      },
      "execution_count": null,
      "outputs": [
        {
          "output_type": "stream",
          "name": "stderr",
          "text": [
            "100%|██████████| 30/30 [01:47<00:00,  3.57s/it]\n"
          ]
        }
      ]
    },
    {
      "cell_type": "code",
      "source": [
        "plt.plot(range(epoch),total_train_loss_list,\"b\",label=\"train\")\n",
        "plt.plot(range(epoch),total_test_loss_list,\"r\",label=\"test\")\n",
        "plt.legend()\n",
        "plt.show()"
      ],
      "metadata": {
        "colab": {
          "base_uri": "https://localhost:8080/",
          "height": 430
        },
        "id": "iXHRkDEzusiN",
        "outputId": "d3654084-10dc-4306-bd29-664a6ba4e52e"
      },
      "execution_count": null,
      "outputs": [
        {
          "output_type": "display_data",
          "data": {
            "text/plain": [
              "<Figure size 640x480 with 1 Axes>"
            ],
            "image/png": "[encoded data removed]"
          },
          "metadata": {}
        }
      ]
    },
    {
      "cell_type": "code",
      "source": [
        "plt.plot(range(epoch),total_train_acc_list,\"b\",label=\"train\")\n",
        "plt.plot(range(epoch),total_test_acc_list,\"r\",label=\"test\")\n",
        "plt.legend()\n",
        "plt.show()"
      ],
      "metadata": {
        "colab": {
          "base_uri": "https://localhost:8080/",
          "height": 430
        },
        "id": "paNXa0zlu958",
        "outputId": "eb86d70f-c326-4f93-8135-3ce04657bf9a"
      },
      "execution_count": null,
      "outputs": [
        {
          "output_type": "display_data",
          "data": {
            "text/plain": [
              "<Figure size 640x480 with 1 Axes>"
            ],
            "image/png": "[encoded data removed]"
          },
          "metadata": {}
        }
      ]
    },
    {
      "cell_type": "code",
      "source": [
        "semi_epoch = 30 #@param {type:\"integer\"}"
      ],
      "metadata": {
        "id": "g2FHWYU6GrG1"
      },
      "execution_count": null,
      "outputs": []
    },
    {
      "cell_type": "code",
      "source": [
        "\n",
        "model_name = \"\" #@param {type:\"string\"}\n",
        "\n",
        "semi_learning_rate = 0.3 #@param {type:\"number\"}\n",
        "\n",
        "semi_optim_method = \"rmsprop\" #@param [\"sgd\",\"adam\",\"rmsprop\"]\n",
        "\n",
        "\n"
      ],
      "metadata": {
        "id": "O_j17L5zLtcr"
      },
      "execution_count": null,
      "outputs": []
    },
    {
      "cell_type": "code",
      "source": [
        "import torch\n",
        "\n",
        "loss_function = nn.CrossEntropyLoss()\n",
        "\n",
        "if semi_optim_method == \"sgd\":\n",
        "  optimizer = torch.optim.SGD(model.parameters(),lr=semi_learning_rate)\n",
        "elif semi_optim_method == \"adam\":\n",
        "  optimizer = torch.optim.Adam(model.parameters(),lr=semi_learning_rate)\n",
        "elif semi_optim_method == \"rmsprop\":\n",
        "  optimizer = torch.optim.RMSprop(model.parameters(),lr=semi_learning_rate)\n",
        "else :\n",
        "  raise Exception(\"Invalid optimizer\")"
      ],
      "metadata": {
        "id": "0pR2CxAkLyRV"
      },
      "execution_count": null,
      "outputs": []
    },
    {
      "cell_type": "code",
      "source": [
        "\n",
        "total_train_loss_list = []\n",
        "total_train_acc_list = []\n",
        "total_test_loss_list = []\n",
        "total_test_acc_list = []\n",
        "\n",
        "for iterate_index in tqdm(range(semi_epoch)):\n",
        "  train_loss_list = []\n",
        "  train_acc_list = []\n",
        "  test_loss_list = []\n",
        "  test_acc_list = []\n",
        "\n",
        "  model.eval()\n",
        "  with torch.no_grad():\n",
        "    test_hypo_y = model(torch.tensor(test_x).to(torch.float32)).squeeze()\n",
        "\n",
        "  test_hypo_y = (test_hypo_y >= 0.5).to(int).numpy()\n",
        "\n",
        "  semi_train_x = np.concatenate((train_x,test_x),axis=0)\n",
        "  semi_train_y = np.concatenate((train_y,test_hypo_y),axis=0)\n",
        "\n",
        "  semi_train_data_set = ppl_data(semi_train_x,semi_train_y)\n",
        "  semi_train_data_loader = DataLoader(semi_train_data_set, batch_size=16,shuffle=True)\n",
        "\n",
        "  model.train()\n",
        "\n",
        "\n",
        "\n",
        "\n",
        "  for batch_train_x, batch_train_y in semi_train_data_loader:\n",
        "    batch_train_x = batch_train_x.to(torch.float32).to(torch.device(\"cpu\"))\n",
        "    batch_train_y = batch_train_y.to(torch.float32).to(torch.device(\"cpu\"))\n",
        "    optimizer.zero_grad()\n",
        "    batch_hypo_y = model(batch_train_x).squeeze()\n",
        "    loss = loss_function(batch_hypo_y,batch_train_y)\n",
        "    loss.backward()\n",
        "    optimizer.step()\n",
        "\n",
        "    model.eval()\n",
        "    with torch.no_grad():\n",
        "      hypo_y = model(batch_train_x).squeeze()\n",
        "      loss = loss_function(hypo_y,batch_train_y)\n",
        "      train_loss_list.append(loss.item())\n",
        "      acc_hypo = (hypo_y >= 0.5).to(int)\n",
        "      train_acc = np.count_nonzero(acc_hypo == batch_train_y) / hypo_y.shape[0]\n",
        "      train_acc_list.append(train_acc)\n",
        "\n",
        "  train_loss_list = np.array(train_loss_list)\n",
        "  total_train_loss_list.append(train_loss_list.mean())\n",
        "  train_acc_list = np.array(train_acc_list)\n",
        "  total_train_acc_list.append(train_acc_list.mean())\n",
        "\n",
        "\n",
        "  model.eval()\n",
        "  for batch_val_x, batch_val_y in val_data_loader:\n",
        "    batch_val_x = batch_val_x.to(torch.float32).to(torch.device(\"cpu\"))\n",
        "    batch_val_y = batch_val_y.to(torch.float32).to(torch.device(\"cpu\"))\n",
        "\n",
        "    with torch.no_grad():\n",
        "      hypo_y = model(batch_val_x).squeeze()\n",
        "      loss = loss_function(hypo_y,batch_val_y)\n",
        "      test_loss_list.append(loss.item())\n",
        "\n",
        "      acc_hypo = (hypo_y >= 0.5).to(int)\n",
        "      test_acc = np.count_nonzero(acc_hypo == batch_val_y) / hypo_y.shape[0]\n",
        "      test_acc_list.append(test_acc)\n",
        "\n",
        "  test_loss_list = np.array(test_loss_list)\n",
        "  total_test_loss_list.append(test_loss_list.mean())\n",
        "  test_acc_list = np.array(test_acc_list)\n",
        "  total_test_acc_list.append(test_acc_list.mean())\n",
        "\n"
      ],
      "metadata": {
        "colab": {
          "base_uri": "https://localhost:8080/"
        },
        "id": "CNuzEBpVF_UL",
        "outputId": "95591dce-b7f1-4d3c-c0f7-451ea28387a7"
      },
      "execution_count": null,
      "outputs": [
        {
          "output_type": "stream",
          "name": "stderr",
          "text": [
            "100%|██████████| 30/30 [03:00<00:00,  6.03s/it]\n"
          ]
        }
      ]
    },
    {
      "cell_type": "code",
      "source": [
        "plt.plot(range(semi_epoch),total_train_loss_list,\"b\",label=\"train\")\n",
        "plt.plot(range(semi_epoch),total_test_loss_list,\"r\",label=\"test\")\n",
        "plt.legend()\n",
        "plt.show()"
      ],
      "metadata": {
        "colab": {
          "base_uri": "https://localhost:8080/",
          "height": 430
        },
        "id": "OVqgZeuAJXF1",
        "outputId": "7b298885-4cca-4dd5-c439-5b8d3b06d968"
      },
      "execution_count": null,
      "outputs": [
        {
          "output_type": "display_data",
          "data": {
            "text/plain": [
              "<Figure size 640x480 with 1 Axes>"
            ],
            "image/png": "[encoded data removed]"
          },
          "metadata": {}
        }
      ]
    },
    {
      "cell_type": "code",
      "source": [
        "plt.plot(range(semi_epoch),total_train_acc_list,\"b\",label=\"train\")\n",
        "plt.plot(range(semi_epoch),total_test_acc_list,\"r\",label=\"test\")\n",
        "plt.legend()\n",
        "plt.show()"
      ],
      "metadata": {
        "colab": {
          "base_uri": "https://localhost:8080/",
          "height": 430
        },
        "id": "sza8mCTXJY4X",
        "outputId": "991c1f86-5021-4f7e-c38c-f02d44ab4193"
      },
      "execution_count": null,
      "outputs": [
        {
          "output_type": "display_data",
          "data": {
            "text/plain": [
              "<Figure size 640x480 with 1 Axes>"
            ],
            "image/png": "[encoded data removed]"
          },
          "metadata": {}
        }
      ]
    },
    {
      "cell_type": "code",
      "source": [
        "model_name = \"adam\""
      ],
      "metadata": {
        "id": "et_oywcNV9iR"
      },
      "execution_count": null,
      "outputs": []
    },
    {
      "cell_type": "code",
      "source": [
        "torch.save(model.state_dict(),model_name)"
      ],
      "metadata": {
        "id": "AarUtgmwVwzU"
      },
      "execution_count": null,
      "outputs": []
    },
    {
      "cell_type": "code",
      "source": [
        "## 用 pandas 紀錄各個成績"
      ],
      "metadata": {
        "id": "BvgFCl7AY8p2"
      },
      "execution_count": null,
      "outputs": []
    },
    {
      "cell_type": "code",
      "source": [
        "## 印出 pandas"
      ],
      "metadata": {
        "id": "lWpQn85EZAOG"
      },
      "execution_count": null,
      "outputs": []
    }
  ],
  "metadata": {
    "colab": {
      "provenance": []
    },
    "kernelspec": {
      "display_name": "Python 3",
      "name": "python3"
    },
    "language_info": {
      "name": "python"
    }
  },
  "nbformat": 4,
  "nbformat_minor": 0
}